{
 "cells": [
  {
   "cell_type": "markdown",
   "id": "2714d5d0",
   "metadata": {},
   "source": [
    "# Day 3: Matrices and Basic Matrix Operations\n",
    "\n",
    "Welcome to Day 3! Today, we're moving from single vectors to collections of vectors arranged in rectangular grids called **matrices**. Matrices are central to linear algebra and are used extensively in machine learning to represent datasets, transformations, and model parameters.\n",
    "\n",
    "## Objectives for Today:\n",
    "\n",
    "- Understand what matrices are (dimensions, elements, rows, columns).\n",
    "- Learn how to represent matrices using 2D NumPy arrays.\n",
    "- Practice accessing individual elements, rows, and columns of a matrix.\n",
    "- Understand and implement **matrix addition**.\n",
    "- Understand and implement **scalar multiplication of matrices**.\n",
    "- Learn how to perform a **matrix transpose**.\n",
    "- Connect these concepts to data representation and manipulation in Machine Learning.\n"
   ]
  },
  {
   "cell_type": "code",
   "execution_count": 2,
   "metadata": {
    "scrolled": true
   },
   "outputs": [],
   "source": [
    "# Import necessary libraries\n",
    "import numpy as np"
   ]
  },
  {
   "cell_type": "markdown",
   "metadata": {},
   "source": [
    "## 1. What are Matrices?\n",
    "\n",
    "### Concept\n",
    "\n",
    "A **matrix** is a rectangular array of numbers, symbols, or expressions, arranged in rows and columns. Think of it as a table of numbers.\n",
    "\n",
    "- A matrix is defined by its **dimensions**, usually written as `m x n` (read as 'm by n'), where `m` is the number of **rows** and `n` is the number of **columns**.\n",
    "- Each individual number in the matrix is called an **element**.\n",
    "\n",
    "Example of a 2x3 matrix:\n",
    "\n",
    "$$\n",
    "A = \\begin{pmatrix}\n",
    "a_{11} & a_{12} & a_{13} \\\\\n",
    "a_{21} & a_{22} & a_{23}\n",
    "\\end{pmatrix}\n",
    "$$\n"
   ]
  },
  {
   "cell_type": "markdown",
   "id": "592f3f4e",
   "metadata": {},
   "source": [
    "### NumPy Practice: Creating Matrices\n",
    "\n",
    "In NumPy, matrices are represented by 2-dimensional arrays. You can create them by passing a list of lists to `np.array()`.\n"
   ]
  },
  {
   "cell_type": "code",
   "execution_count": 4,
   "metadata": {},
   "outputs": [
    {
     "name": "stdout",
     "output_type": "stream",
     "text": [
      "Matrix A:\n",
      " [[1 2 3]\n",
      " [4 5 6]]\n",
      "Shape of Matrix A: (2, 3)\n",
      "\n",
      "---\n",
      "Matrix B:\n",
      " [[ 7  8  9]\n",
      " [10 11 12]\n",
      " [13 14 15]]\n",
      "Shape of Matrix B: (3, 3)\n",
      "\n",
      "---\n",
      "Column Vector (Matrix):\n",
      " [[10]\n",
      " [20]\n",
      " [30]\n",
      " [40]]\n",
      "Shape of Column Vector: (4, 1)\n"
     ]
    }
   ],
   "source": [
    "# Creating a 2x3 matrix\n",
    "matrix_A = np.array([[1, 2, 3], [4, 5, 6]])\n",
    "print(\"Matrix A:\\n\", matrix_A)\n",
    "print(\"Shape of Matrix A:\", matrix_A.shape)  # Output will be (2, 3)\n",
    "\n",
    "print(\"\\n---\")\n",
    "\n",
    "# Creating a 3x3 (square) matrix\n",
    "matrix_B = np.array([[7, 8, 9], [10, 11, 12], [13, 14, 15]])\n",
    "\n",
    "print(\"Matrix B:\\n\", matrix_B)\n",
    "print(\"Shape of Matrix B:\", matrix_B.shape)  # Output will be (3, 3)\n",
    "\n",
    "print(\"\\n---\")\n",
    "\n",
    "# Creating a 4x1 (column) vector - technically a matrix with 1 column\n",
    "column_vector = np.array([[10], [20], [30], [40]])\n",
    "print(\"Column Vector (Matrix):\\n\", column_vector)\n",
    "print(\"Shape of Column Vector:\", column_vector.shape)  # Output will be (4, 1)"
   ]
  },
  {
   "cell_type": "markdown",
   "metadata": {},
   "source": [
    "### **Exercise 1: Creating and Inspecting Matrices**\n",
    "\n",
    "1.  Create a matrix `M1` with 3 rows and 2 columns, containing any integers you like.\n",
    "2.  Create a square matrix `M2` of size 4x4, containing floating-point numbers.\n",
    "3.  Print both matrices and their `shape` attribute.\n"
   ]
  },
  {
   "cell_type": "code",
   "execution_count": null,
   "metadata": {},
   "outputs": [
    {
     "name": "stdout",
     "output_type": "stream",
     "text": [
      "M1: \n",
      " [[9 8]\n",
      " [4 5]\n",
      " [3 0]]\n",
      "\n",
      "Shape of M1:  (3, 2)\n",
      "_____________________\n",
      "\n",
      "M2: \n",
      " [[4.1 4.2 4.3 4.3]\n",
      " [4.4 4.5 4.6 4.7]\n",
      " [4.8 4.9 5.  5.1]\n",
      " [5.2 5.3 5.4 5.5]]\n",
      "\n",
      "Shape of M2:  (4, 4)\n"
     ]
    }
   ],
   "source": [
    "# Your code for Exercise 1 here\n",
    "M1 = np.array([[9, 8], [4, 5], [3, 0]])\n",
    "\n",
    "M2 = np.array(\n",
    "    [\n",
    "        [4.1, 4.2, 4.3, 4.3],\n",
    "        [4.4, 4.5, 4.6, 4.7],\n",
    "        [4.8, 4.9, 5.0, 5.1],\n",
    "        [5.2, 5.3, 5.4, 5.5],\n",
    "    ]\n",
    ")\n",
    "\n",
    "print(\"M1: \\n\", M1)\n",
    "print(\"\\nShape of M1: \", M1.shape)\n",
    "print(\"_\" * 21)\n",
    "print(\"\\nM2: \\n\", M2)\n",
    "print(\"\\nShape of M2: \", M2.shape)"
   ]
  },
  {
   "cell_type": "code",
   "execution_count": null,
   "metadata": {
    "collapsed": true
   },
   "outputs": [],
   "source": [
    "# Solution for Exercise 1\n",
    "M1 = np.array([[1, 5], [2, 6], [3, 7]])\n",
    "print(\"Matrix M1:\\n\", M1)\n",
    "print(\"Shape of M1:\", M1.shape)\n",
    "\n",
    "print(\"\\n---\")\n",
    "\n",
    "M2 = np.array(\n",
    "    [\n",
    "        [1.1, 2.2, 3.3, 4.4],\n",
    "        [5.5, 6.6, 7.7, 8.8],\n",
    "        [9.9, 10.1, 11.2, 12.3],\n",
    "        [13.4, 14.5, 15.6, 16.7],\n",
    "    ]\n",
    ")\n",
    "print(\"Matrix M2:\\n\", M2)\n",
    "print(\"Shape of M2:\", M2.shape)"
   ]
  },
  {
   "cell_type": "markdown",
   "metadata": {},
   "source": [
    "## 2. Accessing Matrix Elements, Rows, and Columns\n",
    "\n",
    "### Concept\n",
    "\n",
    "Accessing parts of a matrix is similar to accessing elements in lists or 1D arrays, but now you have two dimensions (row and column index).\n",
    "\n",
    "- `matrix[row_index, column_index]` for a single element.\n",
    "- `matrix[row_index, :]` for an entire row.\n",
    "- `matrix[:, column_index]` for an entire column.\n",
    "- Slicing works too: `matrix[row_start:row_end, col_start:col_end]`.\n",
    "\n",
    "### NumPy Practice\n"
   ]
  },
  {
   "cell_type": "code",
   "execution_count": 22,
   "metadata": {},
   "outputs": [
    {
     "name": "stdout",
     "output_type": "stream",
     "text": [
      "Original Data Matrix (3x4):\n",
      " [[ 10  20  30  40]\n",
      " [ 50  60  70  80]\n",
      " [ 90 100 110 120]]\n",
      "\n",
      "Element at (0, 1): 110\n",
      "Second Row (index 1): [50 60 70 80]\n",
      "Third Column (index 2): [ 30  70 110]\n",
      "Sub-matrix (top-left 2x2):\n",
      " [[10 20]\n",
      " [50 60]]\n"
     ]
    }
   ],
   "source": [
    "data_matrix = np.array([[10, 20, 30, 40], [50, 60, 70, 80], [90, 100, 110, 120]])\n",
    "print(\"Original Data Matrix (3x4):\\n\", data_matrix)\n",
    "\n",
    "# Accessing a single element (row 0, column 1 - which is 20)\n",
    "element = data_matrix[2, 2]\n",
    "print(\"\\nElement at (0, 1):\", element)\n",
    "\n",
    "# Accessing the second row (index 1)\n",
    "row_1 = data_matrix[1, :]\n",
    "print(\"Second Row (index 1):\", row_1)\n",
    "\n",
    "# Accessing the third column (index 2)\n",
    "col_2 = data_matrix[:, -2]\n",
    "print(\"Third Column (index 2):\", col_2)\n",
    "\n",
    "# Accessing a sub-matrix (rows 0-1, columns 0-1)\n",
    "sub_matrix = data_matrix[0:2, 0:2]  # Rows 0 and 1, Columns 0 and 1\n",
    "print(\"Sub-matrix (top-left 2x2):\\n\", sub_matrix)"
   ]
  },
  {
   "cell_type": "markdown",
   "metadata": {},
   "source": [
    "### **Exercise 2: Accessing Matrix Elements, Rows, and Columns**\n",
    "\n",
    "Given the following `sensor_data` matrix (representing readings from 4 sensors over 5 time steps):\n",
    "\n",
    "```python\n",
    "sensor_data = np.array([\n",
    "    [2.3, 4.1, 1.9, 5.0, 3.2],  # Sensor 1\n",
    "    [0.5, 1.2, 0.8, 1.5, 0.9],  # Sensor 2\n",
    "    [7.1, 6.8, 7.5, 6.9, 7.0],  # Sensor 3\n",
    "    [3.0, 3.5, 2.8, 3.1, 3.3]   # Sensor 4\n",
    "])\n",
    "```\n",
    "\n",
    "1.  Print the entire `sensor_data` matrix.\n",
    "2.  Extract and print the reading from **Sensor 3 at time step 2** (element at `[2, 1]`).\n",
    "3.  Extract and print all readings from **Sensor 1** (the first row).\n",
    "4.  Extract and print all readings for **time step 4** (the fourth column, index 3).\n",
    "5.  Extract and print the sub-matrix containing readings from **Sensor 2 and 3** for **time steps 1 to 3** (columns 0 to 2).\n"
   ]
  },
  {
   "cell_type": "code",
   "execution_count": 29,
   "metadata": {},
   "outputs": [
    {
     "name": "stdout",
     "output_type": "stream",
     "text": [
      "Sensor data: \n",
      " [[2.3 4.1 1.9 5.  3.2]\n",
      " [0.5 1.2 0.8 1.5 0.9]\n",
      " [7.1 6.8 7.5 6.9 7. ]\n",
      " [3.  3.5 2.8 3.1 3.3]]\n",
      "\n",
      "Reading from Sensor 3 at Time Step 2: 6.8\n",
      "\n",
      "Readings from Sensor 1:  [2.3 4.1 1.9 5.  3.2]\n",
      "\n",
      "All readings from timestap 4:  [5.  1.5 6.9 3.1]\n",
      "\n",
      "Sub-matrix from Sensor 2 and 3 from time steps 1 to 3: \n",
      " [[0.5 1.2 0.8]\n",
      " [7.1 6.8 7.5]]\n"
     ]
    }
   ],
   "source": [
    "# Your code for Exercise 2 here\n",
    "\n",
    "sensor_data = np.array(\n",
    "    [\n",
    "        [2.3, 4.1, 1.9, 5.0, 3.2],  # Sensor 1\n",
    "        [0.5, 1.2, 0.8, 1.5, 0.9],  # Sensor 2\n",
    "        [7.1, 6.8, 7.5, 6.9, 7.0],  # Sensor 3\n",
    "        [3.0, 3.5, 2.8, 3.1, 3.3],  # Sensor 4\n",
    "    ]\n",
    ")\n",
    "\n",
    "print(\"Sensor data: \\n\", sensor_data)\n",
    "\n",
    "reading_s3_t2 = sensor_data[2, 1]\n",
    "print(\"\\nReading from Sensor 3 at Time Step 2:\", reading_s3_t2)\n",
    "\n",
    "sensor_1_readings = sensor_data[0, :]\n",
    "print(\"\\nReadings from Sensor 1: \", sensor_1_readings)\n",
    "\n",
    "timestep_4_readings = sensor_data[:, 3]\n",
    "print(\"\\nAll readings from timestap 4: \", timestep_4_readings)\n",
    "\n",
    "sub_data = sensor_data[1:3, 0:3]\n",
    "print(\"\\nSub-matrix from Sensor 2 and 3 from time steps 1 to 3: \\n\", sub_data)"
   ]
  },
  {
   "cell_type": "code",
   "execution_count": 25,
   "metadata": {
    "collapsed": true
   },
   "outputs": [
    {
     "name": "stdout",
     "output_type": "stream",
     "text": [
      "Original Sensor Data Matrix:\n",
      " [[2.3 4.1 1.9 5.  3.2]\n",
      " [0.5 1.2 0.8 1.5 0.9]\n",
      " [7.1 6.8 7.5 6.9 7. ]\n",
      " [3.  3.5 2.8 3.1 3.3]]\n",
      "\n",
      "Reading from Sensor 3 at Time Step 2: 6.8\n",
      "\n",
      "Readings from Sensor 1: [2.3 4.1 1.9 5.  3.2]\n",
      "\n",
      "Readings for Time Step 4: [5.  1.5 6.9 3.1]\n",
      "\n",
      "Sub-matrix (Sensor 2-3, Time Steps 1-3):\n",
      " [[0.5 1.2 0.8]\n",
      " [7.1 6.8 7.5]]\n"
     ]
    }
   ],
   "source": [
    "# Solution for Exercise 2\n",
    "sensor_data = np.array(\n",
    "    [\n",
    "        [2.3, 4.1, 1.9, 5.0, 3.2],  # Sensor 1\n",
    "        [0.5, 1.2, 0.8, 1.5, 0.9],  # Sensor 2\n",
    "        [7.1, 6.8, 7.5, 6.9, 7.0],  # Sensor 3\n",
    "        [3.0, 3.5, 2.8, 3.1, 3.3],  # Sensor 4\n",
    "    ]\n",
    ")\n",
    "\n",
    "print(\"Original Sensor Data Matrix:\\n\", sensor_data)\n",
    "\n",
    "# 2. Reading from Sensor 3 at time step 2 (index [2, 1])\n",
    "reading_s3_t2 = sensor_data[2, 1]\n",
    "print(\"\\nReading from Sensor 3 at Time Step 2:\", reading_s3_t2)\n",
    "\n",
    "# 3. All readings from Sensor 1 (first row)\n",
    "sensor_1_readings = sensor_data[0, :]\n",
    "print(\"\\nReadings from Sensor 1:\", sensor_1_readings)\n",
    "\n",
    "# 4. All readings for time step 4 (fourth column, index 3)\n",
    "timestep_4_readings = sensor_data[:, 3]\n",
    "print(\"\\nReadings for Time Step 4:\", timestep_4_readings)\n",
    "\n",
    "# 5. Sub-matrix for Sensor 2 and 3, time steps 1 to 3 (rows 1-2, columns 0-2)\n",
    "sub_data = sensor_data[1:3, 0:3]\n",
    "print(\"\\nSub-matrix (Sensor 2-3, Time Steps 1-3):\\n\", sub_data)"
   ]
  },
  {
   "cell_type": "markdown",
   "metadata": {},
   "source": [
    "## 3. Matrix Addition and Scalar Multiplication\n",
    "\n",
    "### Concept\n",
    "\n",
    "These operations are very similar to vector operations, applied element-wise across the matrix.\n",
    "\n",
    "- **Matrix Addition:** To add two matrices, they **must have the same dimensions**. You add corresponding elements.\n",
    "\n",
    "  If $A = \\begin{pmatrix} a_{11} & a_{12} \\\\ a_{21} & a_{22} \\end{pmatrix}$ and $B = \\begin{pmatrix} b_{11} & b_{12} \\\\ b_{21} & b_{22} \\end{pmatrix}$, then $A + B = \\begin{pmatrix} a_{11}+b_{11} & a_{12}+b_{12} \\\\ a_{21}+b_{21} & a_{22}+b_{22} \\end{pmatrix}$\n",
    "\n",
    "- **Scalar Multiplication:** To multiply a matrix by a scalar, you multiply every element in the matrix by that scalar.\n",
    "  If $A = \\begin{pmatrix} a_{11} & a_{12} \\\\ a_{21} & a_{22} \\end{pmatrix}$ and $c$ is a scalar, then $c A = \\begin{pmatrix} c a_{11} & c a_{12} \\\\ c a_{21} & c a_{22} \\end{pmatrix}$\n",
    "\n",
    "### NumPy Practice\n",
    "\n",
    "NumPy's operators `+` and `*` work directly for these element-wise matrix operations.\n"
   ]
  },
  {
   "cell_type": "code",
   "execution_count": 30,
   "metadata": {},
   "outputs": [
    {
     "name": "stdout",
     "output_type": "stream",
     "text": [
      "Matrix 1:\n",
      " [[1 2]\n",
      " [3 4]]\n",
      "Matrix 2:\n",
      " [[5 6]\n",
      " [7 8]]\n",
      "\n",
      "Matrix Sum (M1 + M2):\n",
      " [[ 6  8]\n",
      " [10 12]]\n",
      "\n",
      "Scaled Matrix 1 (2.5 * M1):\n",
      " [[ 2.5  5. ]\n",
      " [ 7.5 10. ]]\n",
      "\n",
      "Combined Matrix (0.5 * M1 + 2 * M2):\n",
      " [[10.5 13. ]\n",
      " [15.5 18. ]]\n"
     ]
    }
   ],
   "source": [
    "matrix1 = np.array([[1, 2], [3, 4]])\n",
    "matrix2 = np.array([[5, 6], [7, 8]])\n",
    "\n",
    "print(\"Matrix 1:\\n\", matrix1)\n",
    "print(\"Matrix 2:\\n\", matrix2)\n",
    "\n",
    "# Matrix Addition\n",
    "matrix_sum = matrix1 + matrix2\n",
    "print(\"\\nMatrix Sum (M1 + M2):\\n\", matrix_sum)\n",
    "\n",
    "# Scalar Multiplication\n",
    "scalar = 2.5\n",
    "scaled_matrix1 = scalar * matrix1\n",
    "print(\"\\nScaled Matrix 1 (2.5 * M1):\\n\", scaled_matrix1)\n",
    "\n",
    "# Combined Operation\n",
    "combined_matrix = (0.5 * matrix1) + (2 * matrix2)\n",
    "print(\"\\nCombined Matrix (0.5 * M1 + 2 * M2):\\n\", combined_matrix)"
   ]
  },
  {
   "cell_type": "markdown",
   "metadata": {},
   "source": [
    "### **Exercise 3: Matrix Addition and Scalar Multiplication**\n",
    "\n",
    "Suppose `daily_sales` represents sales of 3 products over 4 days, and `cost_per_product` represents the cost per unit of each product.\n",
    "\n",
    "```python\n",
    "daily_sales = np.array([\n",
    "   ,  # Product A sales\n",
    "   ,    # Product B sales\n",
    "    # Product C sales\n",
    "])\n",
    "\n",
    "price_per_product = np.array([\n",
    "    [10.0, 10.0, 10.0, 10.0], # Price A (constant over days for simplicity)\n",
    "    [20.0, 20.0, 20.0, 20.0], # Price B\n",
    "    [5.0, 5.0, 5.0, 5.0]     # Price C\n",
    "])\n",
    "```\n",
    "\n",
    "1.  Calculate `total_revenue = daily_sales * price_per_product` (element-wise multiplication here, which is equivalent to scalar multiplication if we consider prices as scaling factors for each product's sales). _Self-correction: This is actually element-wise multiplication, not scalar. Let's make this exercise clearer by separating the concepts._\n",
    "\n",
    "    **Revised Task 1:** Define `bonus_multiplier = 0.1`.\n",
    "\n",
    "2.  Calculate `bonus_sales = daily_sales * bonus_multiplier`.\n",
    "3.  Suppose `additional_sales` for another week are:\n",
    "    `additional_sales = np.array([[3, 2, 4, 1], [1, 0, 2, 3], [5, 4, 3, 6]])`.\n",
    "4.  Calculate `total_sales_over_two_weeks = daily_sales + additional_sales`.\n",
    "5.  Print `daily_sales`, `bonus_sales`, `additional_sales`, and `total_sales_over_two_weeks`.\n"
   ]
  },
  {
   "cell_type": "code",
   "execution_count": 9,
   "metadata": {},
   "outputs": [
    {
     "name": "stdout",
     "output_type": "stream",
     "text": [
      "original sales:\n",
      " [[20 14  9 12]\n",
      " [10 16  3 14]\n",
      " [12 14  5  6]]\n",
      "\n",
      "Bonus sales (15% of daily sales):\n",
      " [[3.   2.1  1.35 1.8 ]\n",
      " [1.5  2.4  0.45 2.1 ]\n",
      " [1.8  2.1  0.75 0.9 ]]\n",
      "\n",
      "The total sales:\n",
      " [[23 16 13 13]\n",
      " [11 16  5 17]\n",
      " [17 18  8 12]]\n"
     ]
    }
   ],
   "source": [
    "# Your code for Exercise 3 here\n",
    "daily_sales = np.array(\n",
    "    [\n",
    "        [20, 14, 9, 12],\n",
    "        [10, 16, 3, 14],\n",
    "        [12, 14, 5, 6]\n",
    "    ]\n",
    ")\n",
    "\n",
    "print(\"original sales:\\n\", daily_sales)\n",
    "\n",
    "bonus_multiplier = 0.15\n",
    "bonus_sales = daily_sales * bonus_multiplier\n",
    "print(\"\\nBonus sales (15% of daily sales):\\n\", bonus_sales)\n",
    "\n",
    "total_sales_over_two_weeks = daily_sales + additional_sales\n",
    "\n",
    "print(\"\\nThe total sales:\\n\", total_sales_over_two_weeks)"
   ]
  },
  {
   "cell_type": "code",
   "execution_count": 6,
   "metadata": {
    "collapsed": true
   },
   "outputs": [
    {
     "name": "stdout",
     "output_type": "stream",
     "text": [
      "Original Daily Sales:\n",
      " [[11 12  8 15]\n",
      " [ 5  7  6  9]\n",
      " [20 18 22 25]]\n",
      "\n",
      "Bonus Sales (10% of daily sales):\n",
      " [[1.1 1.2 0.8 1.5]\n",
      " [0.5 0.7 0.6 0.9]\n",
      " [2.  1.8 2.2 2.5]]\n",
      "\n",
      "Additional Sales:\n",
      " [[3 2 4 1]\n",
      " [1 0 2 3]\n",
      " [5 4 3 6]]\n",
      "\n",
      "Total Sales (Daily + Additional):\n",
      " [[14 14 12 16]\n",
      " [ 6  7  8 12]\n",
      " [25 22 25 31]]\n"
     ]
    }
   ],
   "source": [
    "# Solution for Exercise 3\n",
    "daily_sales = np.array(\n",
    "    [\n",
    "        [11, 12, 8, 15],  # Product A sales\n",
    "        [5, 7, 6, 9],  # Product B sales\n",
    "        [20, 18, 22, 25],  # Product C sales\n",
    "    ]\n",
    ")\n",
    "\n",
    "print(\"Original Daily Sales:\\n\", daily_sales)\n",
    "\n",
    "# 1. Scalar Multiplication: Calculate bonus sales\n",
    "bonus_multiplier = 0.1\n",
    "bonus_sales = daily_sales * bonus_multiplier\n",
    "print(\"\\nBonus Sales (10% of daily sales):\\n\", bonus_sales)\n",
    "\n",
    "# 3. Additional sales matrix\n",
    "additional_sales = np.array([[3, 2, 4, 1], [1, 0, 2, 3], [5, 4, 3, 6]])\n",
    "print(\"\\nAdditional Sales:\\n\", additional_sales)\n",
    "\n",
    "# 4. Matrix Addition: Calculate total sales over two weeks\n",
    "total_sales_over_two_weeks = daily_sales + additional_sales\n",
    "print(\"\\nTotal Sales (Daily + Additional):\\n\", total_sales_over_two_weeks)"
   ]
  },
  {
   "cell_type": "markdown",
   "metadata": {},
   "source": [
    "## 4. Matrix Transpose\n",
    "\n",
    "### Concept\n",
    "\n",
    "The transpose of a matrix is an operation that flips the matrix over its diagonal, exchanging the row and column indices of the matrix. The rows of the original matrix become the columns of the transposed matrix, and vice-versa.\n",
    "\n",
    "If $A$ is an `m x n` matrix, its transpose, denoted $A^T$ (or $A'$), is an `n x m` matrix.\n",
    "\n",
    "Example:\n",
    "If $A = \\begin{pmatrix} 1 & 2 & 3 \\\\ 4 & 5 & 6 \\end{pmatrix}$, then $A^T = \\begin{pmatrix} 1 & 4 \\\\ 2 & 5 \\\\ 3 & 6 \\end{pmatrix}$.\n",
    "\n",
    "### NumPy Practice\n",
    "\n",
    "NumPy provides a convenient `.T` attribute (or `np.transpose()`) to perform this operation.\n"
   ]
  },
  {
   "cell_type": "code",
   "execution_count": 12,
   "metadata": {},
   "outputs": [
    {
     "name": "stdout",
     "output_type": "stream",
     "text": [
      "Original Matrix (2x3):\n",
      " [[1 2 3]\n",
      " [4 5 6]]\n",
      "Shape of Original Matrix: (2, 3)\n",
      "\n",
      "Transposed Matrix (3x2):\n",
      " [[1 4]\n",
      " [2 5]\n",
      " [3 6]]\n",
      "Shape of Transposed Matrix: (3, 2)\n",
      "\n",
      "---\n",
      "Square Matrix (2x2):\n",
      " [[10 20 30]\n",
      " [40 50 60]]\n",
      "Shape of Square Matrix: (2, 3)\n",
      "\n",
      "Transposed Square Matrix (2x2):\n",
      " [[10 40]\n",
      " [20 50]\n",
      " [30 60]]\n",
      "Shape of Transposed Square Matrix: (3, 2)\n"
     ]
    }
   ],
   "source": [
    "original_matrix = np.array([[1, 2, 3], [4, 5, 6]])\n",
    "\n",
    "print(\"Original Matrix (2x3):\\n\", original_matrix)\n",
    "print(\"Shape of Original Matrix:\", original_matrix.shape)\n",
    "\n",
    "transposed_matrix = original_matrix.T  # Using the .T attribute\n",
    "print(\"\\nTransposed Matrix (3x2):\\n\", transposed_matrix)\n",
    "print(\"Shape of Transposed Matrix:\", transposed_matrix.shape)\n",
    "\n",
    "print(\"\\n---\")\n",
    "\n",
    "square_matrix = np.array([[10, 20, 30], [40, 50, 60]])\n",
    "print(\"Square Matrix (2x2):\\n\", square_matrix)\n",
    "print(\"Shape of Square Matrix:\", square_matrix.shape)\n",
    "\n",
    "transposed_square_matrix = np.transpose(square_matrix)  # Using np.transpose()\n",
    "print(\"\\nTransposed Square Matrix (2x2):\\n\", transposed_square_matrix)\n",
    "print(\"Shape of Transposed Square Matrix:\", transposed_square_matrix.shape)"
   ]
  },
  {
   "cell_type": "markdown",
   "metadata": {},
   "source": [
    "### **Exercise 4: Matrix Transpose**\n",
    "\n",
    "1.  Create a rectangular matrix `R` of size 5x3 (e.g., representing 5 students and 3 exam scores).\n",
    "2.  Print `R` and its shape.\n",
    "3.  Calculate the transpose of `R`, named `R_T`.\n",
    "4.  Print `R_T` and its shape.\n",
    "5.  Explain in your own words why transposing a matrix is useful in the context of handling data (e.g., if rows are samples and columns are features, what does `R_T` represent?).\n",
    "\n",
    "    _Hint: Think about how you might want to switch the perspective of your data (e.g., from student-centric to exam-centric)._\n"
   ]
  },
  {
   "cell_type": "code",
   "execution_count": 15,
   "metadata": {},
   "outputs": [
    {
     "name": "stdout",
     "output_type": "stream",
     "text": [
      "\n",
      "R:\n",
      " [[81 92 85]\n",
      " [87 86 91]\n",
      " [89 87 88]\n",
      " [87 85 91]\n",
      " [90 84 91]]\n",
      "\n",
      "Transpose of R:\n",
      " [[81 87 89 87 90]\n",
      " [92 86 87 85 84]\n",
      " [85 91 88 91 91]]\n"
     ]
    }
   ],
   "source": [
    "# Your code for Exercise 4 here\n",
    "R = np.array([\n",
    "    [81, 92, 85],\n",
    "    [87, 86, 91],\n",
    "    [89, 87, 88],\n",
    "    [87, 85, 91],\n",
    "    [90, 84, 91]\n",
    "])\n",
    "\n",
    "R_T = R.T\n",
    "print(\"\\nR:\\n\", R)\n",
    "print(\"\\nTranspose of R:\\n\", R_T)\n",
    "# Your explanation here:\n",
    "# Why is transposing useful for data handling?\n",
    "# (Type your answer here as a Python comment or in a markdown cell below)"
   ]
  },
  {
   "cell_type": "markdown",
   "id": "a8903cc4",
   "metadata": {},
   "source": [
    "Trasnposing is useful for example if you want calculate for the indexes of the matrix.\n",
    "You can calculate for Persons for a specific night or what's the probable sleep they will get tomorrow night."
   ]
  },
  {
   "cell_type": "code",
   "execution_count": null,
   "metadata": {
    "collapsed": true
   },
   "outputs": [],
   "source": [
    "# Solution for Exercise 4\n",
    "R = np.array(\n",
    "    [\n",
    "        [85, 90, 78],  # Student 1\n",
    "        [92, 88, 95],  # Student 2\n",
    "        [70, 75, 80],  # Student 3\n",
    "        [65, 70, 68],  # Student 4\n",
    "        [98, 91, 89],  # Student 5\n",
    "    ]\n",
    ")\n",
    "\n",
    "print(\"Original Matrix R (Students x Exams):\\n\", R)\n",
    "print(\"Shape of R:\", R.shape)  # (5, 3)\n",
    "\n",
    "R_T = R.T\n",
    "print(\"\\nTransposed Matrix R_T (Exams x Students):\\n\", R_T)\n",
    "print(\"Shape of R_T:\", R_T.shape)  # (3, 5)\n",
    "\n",
    "print(\"\\nExplanation of usefulness for data handling:\\n\")\n",
    "print(\n",
    "    \"If the original matrix R represents `(samples x features)` (e.g., students as samples, exam scores as features),\\n\",\n",
    "    \"then its transpose R_T effectively switches this representation to `(features x samples)`.\\n\",\n",
    "    \"This is useful when you want to perform operations that treat features as primary entities instead of samples.\\n\",\n",
    "    \"For example, if you want to calculate statistics across all students for a specific exam (column in R_T),\\n\",\n",
    "    \"or if an algorithm expects features as rows rather than columns. Many linear algebra formulas\\n\",\n",
    "    \"in machine learning (like in linear regression or PCA) naturally involve matrix transposes to align dimensions correctly.\",\n",
    ")"
   ]
  },
  {
   "cell_type": "markdown",
   "metadata": {},
   "source": [
    "## Day 3 Summary and ML Connection\n",
    "\n",
    "Today, we laid the groundwork for working with matrices, which are ubiquitous in machine learning:\n",
    "\n",
    "- **Matrices** are rectangular arrays of numbers. They are the standard way to represent **datasets** in machine learning, where rows typically correspond to data samples and columns to features.\n",
    "- We learned to create matrices using **NumPy's 2D arrays** and to inspect their dimensions using the `.shape` attribute (e.g., `(m, n)` for `m` rows and `n` columns).\n",
    "- **Accessing elements, rows, and columns** is crucial for extracting specific data points or features from a dataset.\n",
    "- **Matrix Addition** and **Scalar Multiplication** are element-wise operations that are fundamental for tasks like combining data, adjusting feature scales, or applying constant transformations across all features of all samples.\n",
    "- The **Matrix Transpose** operation flips the rows and columns. This is incredibly important for aligning dimensions for matrix multiplication (which we'll cover next!) and for conceptualizing data from different perspectives (e.g., `samples x features` vs. `features x samples`). It's integral to many ML algorithms' mathematical formulations (e.g., `X^T X` in linear regression).\n",
    "\n",
    "You've now mastered the basics of matrix representation and elementary operations. Tomorrow, we'll dive into the critically important concept of **Matrix Multiplication**, which is the backbone of neural networks and many other transformations in machine learning!\n"
   ]
  }
 ],
 "metadata": {
  "colab": {
   "provenance": []
  },
  "kernelspec": {
   "display_name": ".venv",
   "language": "python",
   "name": "python3"
  },
  "language_info": {
   "codemirror_mode": {
    "name": "ipython",
    "version": 3
   },
   "file_extension": ".py",
   "mimetype": "text/x-python",
   "name": "python",
   "nbconvert_exporter": "python",
   "pygments_lexer": "ipython3",
   "version": "3.13.7"
  }
 },
 "nbformat": 4,
 "nbformat_minor": 5
}
