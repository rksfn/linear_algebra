{
 "nbformat": 4,
 "nbformat_minor": 5,
 "metadata": {
  "colab": {
   "provenance": []
  },
  "kernelspec": {
   "name": "python3",
   "display_name": "Python 3"
  },
  "language_info": {
   "name": "python"
  }
 },
 "cells": [
  {
   "cell_type": "markdown",
   "source": [
    "# Day 5: Special Matrices, Determinants & Trace\n",
    "\n",
    "Welcome to Day 5, the final day of Week 1! Today, we'll explore some special types of matrices that have unique properties and specific roles in linear algebra and machine learning. We'll also introduce two important scalar values derived from square matrices: the determinant and the trace.\n",
    "\n",
    "## Objectives for Today:\n",
    "- Understand and create **Identity Matrices**.\n",
    "- Understand and create **Diagonal Matrices**.\n",
    "- Understand **Symmetric Matrices** and how to check for them.\n",
    "- Understand **Triangular Matrices**.\n",
    "- Calculate the **Determinant** of square matrices and interpret its meaning.\n",
    "- Calculate the **Trace** of square matrices.\n",
    "- Connect these concepts to their significance in Machine Learning."
   ],
   "metadata": {}
  },
  {
   "cell_type": "code",
   "source": [
    "# Import necessary libraries\n",
    "import numpy as np"
   ],
   "metadata": {
    "scrolled": true
   },
   "outputs": []
  },
  {
   "cell_type": "markdown",
   "source": [
    "## 1. Special Matrices\n",
    "\n",
    "### a) Identity Matrix\n",
    "\n",
    "**Concept:** An identity matrix, denoted as $I$ (or $I_n$ for an `n x n` matrix), is a square matrix where all the elements on the main diagonal are 1s and all other elements are 0s. It acts like the number '1' in scalar multiplication (i.e., $A I = I A = A$).\n",
    "\n",
    "Example for $I_3$ (3x3 identity matrix):\n",
    "$$ I_3 = \\begin{pmatrix}\n",
    "1 & 0 & 0 \\\\\n",
    "0 & 1 & 0 \\\\\n",
    "0 & 0 & 1\n",
    "\\end{pmatrix} $$\n",
    "\n",
    "**NumPy Practice:** Use `np.identity(n)` or `np.eye(n)`."
   ],
   "metadata": {}
  },
  {
   "cell_type": "code",
   "source": [
    "# Create a 3x3 identity matrix\n",
    "identity_3x3 = np.identity(3)\n",
    "print(\"3x3 Identity Matrix (using np.identity):\\n\", identity_3x3)\n",
    "\n",
    "print(\"\\n---\")\n",
    "\n",
    "# Create a 4x4 identity matrix using np.eye\n",
    "identity_4x4 = np.eye(4)\n",
    "print(\"4x4 Identity Matrix (using np.eye):\\n\", identity_4x4)\n",
    "\n",
    "# Demonstrate A * I = A\n",
    "A = np.array([\n",
    "    [10, 20, 30],\n",
    "    [40, 50, 60],\n",
    "    [70, 80, 90]\n",
    "])\n",
    "print(\"\\nMatrix A:\\n\", A)\n",
    "print(\"A @ I:\\n\", A @ identity_3x3)\n",
    "print(\"Are A and A @ I equal?\", np.array_equal(A, A @ identity_3x3))"
   ],
   "metadata": {},
   "outputs": []
  },
  {
   "cell_type": "markdown",
   "source": [
    "### b) Diagonal Matrix\n",
    "\n",
    "**Concept:** A diagonal matrix is a square matrix where all the elements outside the main diagonal are zero. The diagonal elements can be any value.\n",
    "\n",
    "Example:\n",
    "$$ D = \\begin{pmatrix}\n",
    "2 & 0 & 0 \\\\\n",
    "0 & -5 & 0 \\\\\n",
    "0 & 0 & 7\n",
    "\\end{pmatrix} $$\n",
    "\n",
    "**NumPy Practice:** You can create one by passing a 1D array to `np.diag()`."
   ],
   "metadata": {}
  },
  {
   "cell_type": "code",
   "source": [
    "# Create a diagonal matrix from a list of diagonal elements\n",
    "diag_elements = np.array([2, -5, 7])\n",
    "diagonal_matrix = np.diag(diag_elements)\n",
    "print(\"Diagonal Matrix:\\n\", diagonal_matrix)\n",
    "\n",
    "print(\"\\n---\")\n",
    "\n",
    "# You can also extract the diagonal from an existing matrix\n",
    "matrix_X = np.array([\n",
    "    [1, 2, 3],\n",
    "    [4, 5, 6],\n",
    "    [7, 8, 9]\n",
    "])\n",
    "main_diagonal = np.diag(matrix_X)\n",
    "print(\"Original Matrix X:\\n\", matrix_X)\n",
    "print(\"Main diagonal of X:\", main_diagonal)"
   ],
   "metadata": {},
   "outputs": []
  },
  {
   "cell_type": "markdown",
   "source": [
    "### c) Symmetric Matrix\n",
    "\n",
    "**Concept:** A square matrix $A$ is symmetric if it is equal to its transpose, i.e., $A = A^T$. This means that $a_{ij} = a_{ji}$ for all $i$ and $j$.\n",
    "\n",
    "Example:\n",
    "$$ S = \\begin{pmatrix}\n",
    "1 & 2 & 3 \\\\\n",
    "2 & 4 & 5 \\\\\n",
    "3 & 5 & 6\n",
    "\\end{pmatrix} $$\n",
    "\n",
    "**NumPy Practice:** Create a matrix and compare it to its transpose using `np.array_equal()`."
   ],
   "metadata": {}
  },
  {
   "cell_type": "code",
   "source": [
    "# Example of a symmetric matrix\n",
    "symmetric_matrix = np.array([\n",
    "    [1, 2, 3],\n",
    "    [2, 4, 5],\n",
    "    [3, 5, 6]\n",
    "])\n",
    "\n",
    "print(\"Symmetric Matrix:\\n\", symmetric_matrix)\n",
    "print(\"Its Transpose:\\n\", symmetric_matrix.T)\n",
    "print(\"Is it symmetric?\", np.array_equal(symmetric_matrix, symmetric_matrix.T))\n",
    "\n",
    "print(\"\\n---\")\n",
    "\n",
    "# Example of a non-symmetric matrix\n",
    "non_symmetric_matrix = np.array([\n",
    "    [1, 2, 3],\n",
    "    [4, 5, 6],\n",
    "    [7, 8, 9]\n",
    "])\n",
    "print(\"Non-Symmetric Matrix:\\n\", non_symmetric_matrix)\n",
    "print(\"Its Transpose:\\n\", non_symmetric_matrix.T)\n",
    "print(\"Is it symmetric?\", np.array_equal(non_symmetric_matrix, non_symmetric_matrix.T))"
   ],
   "metadata": {},
   "outputs": []
  },
  {
   "cell_type": "markdown",
   "source": [
    "### d) Triangular Matrices\n",
    "\n",
    "**Concept:**\n",
    "-   **Upper Triangular Matrix:** A square matrix where all the elements *below* the main diagonal are zero.\n",
    "-   **Lower Triangular Matrix:** A square matrix where all the elements *above* the main diagonal are zero.\n",
    "\n",
    "Example (Upper Triangular):\n",
    "$$ U = \\begin{pmatrix}\n",
    "1 & 2 & 3 \\\\\n",
    "0 & 4 & 5 \\\\\n",
    "0 & 0 & 6\n",
    "\\end{pmatrix} $$\n",
    "\n",
    "**NumPy Practice:** Use `np.triu()` for upper triangular and `np.tril()` for lower triangular."
   ],
   "metadata": {}
  },
  {
   "cell_type": "code",
   "source": [
    "square_matrix = np.array([\n",
    "    [1, 2, 3],\n",
    "    [4, 5, 6],\n",
    "    [7, 8, 9]\n",
    "])\n",
    "\n",
    "print(\"Original Square Matrix:\\n\", square_matrix)\n",
    "\n",
    "upper_triangular = np.triu(square_matrix)\n",
    "print(\"\\nUpper Triangular Matrix:\\n\", upper_triangular)\n",
    "\n",
    "lower_triangular = np.tril(square_matrix)\n",
    "print(\"\\nLower Triangular Matrix:\\n\", lower_triangular)\n",
    "\n",
    "# You can also specify an offset (k) for the diagonal\n",
    "upper_triangular_offset = np.triu(square_matrix, k=1) # Above the main diagonal\n",
    "print(\"\\nUpper Triangular Matrix (k=1):\\n\", upper_triangular_offset)"
   ],
   "metadata": {},
   "outputs": []
  },
  {
   "cell_type": "markdown",
   "source": [
    "### **Exercise 1: Creating and Identifying Special Matrices**\n",
    "\n",
    "1.  Create a 5x5 identity matrix `I5`.\n",
    "2.  Create a 4x4 diagonal matrix `D` where the diagonal elements are `[10, 20, 30, 40]`.\n",
    "3.  Given the matrix `M = np.array([[1, 2, 3], [2, 4, 5], [3, 5, 6]])`, determine if it is symmetric. Print the matrix, its transpose, and the boolean result.\n",
    "4.  Take the matrix `P = np.array([[1, 2, 3, 4], [5, 6, 7, 8], [9, 10, 11, 12], [13, 14, 15, 16]])`. Extract and print its lower triangular part.\n",
    "5.  Print all resulting matrices/values clearly."
   ],
   "metadata": {}
  },
  {
   "cell_type": "code",
   "source": [
    "# Your code for Exercise 1 here\n"
   ],
   "metadata": {},
   "outputs": []
  },
  {
   "cell_type": "code",
   "source": [
    "# Solution for Exercise 1\n",
    "# 1. 5x5 Identity Matrix\n",
    "I5 = np.identity(5)\n",
    "print(\"1. 5x5 Identity Matrix:\\n\", I5)\n",
    "\n",
    "# 2. 4x4 Diagonal Matrix\n",
    "D_diag_elements = np.array([10, 20, 30, 40])\n",
    "D = np.diag(D_diag_elements)\n",
    "print(\"\\n2. 4x4 Diagonal Matrix:\\n\", D)\n",
    "\n",
    "# 3. Check for Symmetric Matrix\n",
    "M = np.array([\n",
    "    [1, 2, 3],\n",
    "    [2, 4, 5],\n",
    "    [3, 5, 6]\n",
    "])\n",
    "print(\"\\n3. Matrix M:\\n\", M)\n",
    "print(\"Transpose of M:\\n\", M.T)\n",
    "is_symmetric_M = np.array_equal(M, M.T)\n",
    "print(\"Is M symmetric?\", is_symmetric_M)\n",
    "\n",
    "# 4. Lower Triangular Part\n",
    "P = np.array([\n",
    "    [1, 2, 3, 4],\n",
    "    [5, 6, 7, 8],\n",
    "    [9, 10, 11, 12],\n",
    "    [13, 14, 15, 16]\n",
    "])\n",
    "print(\"\\n4. Original Matrix P:\\n\", P)\n",
    "lower_P = np.tril(P)\n",
    "print(\"Lower Triangular part of P:\\n\", lower_P)\n"
   ],
   "metadata": {
    "collapsed": true
   },
   "outputs": []
  },
  {
   "cell_type": "markdown",
   "source": [
    "## 2. Determinant of a Square Matrix\n",
    "\n",
    "### Concept\n",
    "The **determinant** is a scalar value that can be computed from the elements of a square matrix. It provides important information about the matrix.\n",
    "\n",
    "**Key Interpretations:**\n",
    "-   The determinant of a matrix represents the **scaling factor** of the linear transformation described by the matrix. If you transform an area/volume with the matrix, the determinant tells you how much that area/volume is scaled.\n",
    "-   If $\\text{det}(A) = 0$, the matrix $A$ is **singular** (or non-invertible). This means the transformation collapses dimensions, e.g., mapping a 2D plane to a 1D line or a point. It implies that the matrix's columns (and rows) are linearly dependent.\n",
    "-   If $\\text{det}(A) \\neq 0$, the matrix $A$ is **invertible**, meaning a unique inverse transformation exists.\n",
    "\n",
    "**Formulas:**\n",
    "-   For a 2x2 matrix $A = \\begin{pmatrix} a & b \\\\ c & d \\end{pmatrix}$, $\\text{det}(A) = ad - bc$.\n",
    "-   For larger matrices, the calculation becomes more involved (e.g., cofactor expansion), but NumPy handles it easily.\n",
    "\n",
    "### NumPy Practice\n",
    "Use `np.linalg.det()` to calculate the determinant."
   ],
   "metadata": {}
  },
  {
   "cell_type": "code",
   "source": [
    "# 2x2 Matrix example\n",
    "matrix_2x2 = np.array([\n",
    "    [4, 1],\n",
    "    [2, 5]\n",
    "])\n",
    "det_2x2 = np.linalg.det(matrix_2x2)\n",
    "print(\"Matrix 2x2:\\n\", matrix_2x2)\n",
    "print(\"Determinant (4*5 - 1*2):\", det_2x2) # Expected: 20 - 2 = 18\n",
    "\n",
    "print(\"\\n---\")\n",
    "\n",
    "# 3x3 Matrix example\n",
    "matrix_3x3 = np.array([\n",
    "    [1, 2, 1],\n",
    "    [3, 4, 0],\n",
    "    [2, 1, 5]\n",
    "])\n",
    "det_3x3 = np.linalg.det(matrix_3x3)\n",
    "print(\"Matrix 3x3:\\n\", matrix_3x3)\n",
    "print(\"Determinant:\", det_3x3)\n",
    "\n",
    "print(\"\\n---\")\n",
    "\n",
    "# Example of a singular matrix (determinant close to zero)\n",
    "# Here, row 2 is a multiple of row 0, so rows are linearly dependent\n",
    "singular_matrix = np.array([\n",
    "    [1, 2],\n",
    "    [2, 4]\n",
    "])\n",
    "det_singular = np.linalg.det(singular_matrix)\n",
    "print(\"Singular Matrix:\\n\", singular_matrix)\n",
    "print(\"Determinant (1*4 - 2*2):\", det_singular) # Expected: 4 - 4 = 0"
   ],
   "metadata": {},
   "outputs": []
  },
  {
   "cell_type": "markdown",
   "source": [
    "### **Exercise 2: Calculating Determinants**\n",
    "\n",
    "1.  Calculate the determinant of `M1 = np.array([[6, 3], [2, 1]])`.\n",
    "2.  Calculate the determinant of `M2 = np.array([[1, 2, 3], [0, 1, 4], [5, 6, 0]])`.\n",
    "3.  Create a matrix `M3` where the determinant is very close to zero (indicating linear dependence of rows/columns). You can achieve this by making one row a linear combination of others. For example, in a 3x3 matrix, `row3 = row1 + row2`.\n",
    "4.  Print all matrices and their determinants.\n",
    "5.  For `M1`, interpret what its determinant means regarding the invertibility of the matrix and the linear independence of its columns/rows.\n",
    "    _Hint: If det is 0, it's singular. If not 0, it's invertible._"
   ],
   "metadata": {}
  },
  {
   "cell_type": "code",
   "source": [
    "# Your code for Exercise 2 here\n",
    "\n",
    "# Your interpretation for M1's determinant here:\n"
   ],
   "metadata": {},
   "outputs": []
  },
  {
   "cell_type": "code",
   "source": [
    "# Solution for Exercise 2\n",
    "# 1. Determinant of M1\n",
    "M1 = np.array([\n",
    "    [6, 3],\n",
    "    [2, 1]\n",
    "])\n",
    "det_M1 = np.linalg.det(M1)\n",
    "print(\"Matrix M1:\\n\", M1)\n",
    "print(\"Determinant of M1:\", det_M1)\n",
    "\n",
    "# Interpretation for M1:\n",
    "if np.isclose(det_M1, 0):\n",
    "    print(\"Interpretation for M1: The determinant is 0. This means M1 is a singular (non-invertible) matrix.\")\n",
    "    print(\"Its columns (or rows) are linearly dependent, meaning one is a scalar multiple of the other.\\n\",\n",
    "          \"Geometrically, it collapses the space, e.g., mapping a 2D area to a 1D line.\")\n",
    "else:\n",
    "    print(\"Interpretation for M1: The determinant is non-zero. This means M1 is an invertible matrix.\")\n",
    "    print(\"Its columns (or rows) are linearly independent. Geometrically, it scales the space without collapsing it.\")\n",
    "\n",
    "# 2. Determinant of M2\n",
    "M2 = np.array([\n",
    "    [1, 2, 3],\n",
    "    [0, 1, 4],\n",
    "    [5, 6, 0]\n",
    "])\n",
    "det_M2 = np.linalg.det(M2)\n",
    "print(\"\\nMatrix M2:\\n\", M2)\n",
    "print(\"Determinant of M2:\", det_M2)\n",
    "\n",
    "# 3. Create a matrix with determinant close to zero\n",
    "M3 = np.array([\n",
    "    [1, 2, 3],\n",
    "    [4, 5, 6],\n",
    "    [5, 7, 9] # row3 = row1 + row2\n",
    "])\n",
    "det_M3 = np.linalg.det(M3)\n",
    "print(\"\\nMatrix M3 (designed to be singular):\\n\", M3)\n",
    "print(\"Determinant of M3:\", det_M3) # Should be very close to 0\n"
   ],
   "metadata": {
    "collapsed": true
   },
   "outputs": []
  },
  {
   "cell_type": "markdown",
   "source": [
    "## 3. Trace of a Square Matrix\n",
    "\n",
    "### Concept\n",
    "The **trace** of a square matrix is the sum of the elements on its main diagonal. It's a simple scalar value, but it has surprising applications in various mathematical and engineering fields, including matrix calculus and quantum mechanics.\n",
    "\n",
    "For $A = \\begin{pmatrix} a_{11} & a_{12} & a_{13} \\\\ a_{21} & a_{22} & a_{23} \\\\ a_{31} & a_{32} & a_{33} \\end{pmatrix}$, $\\text{trace}(A) = a_{11} + a_{22} + a_{33}$.\n",
    "\n",
    "### NumPy Practice\n",
    "Use `np.trace()` to calculate the trace."
   ],
   "metadata": {}
  },
  {
   "cell_type": "code",
   "source": [
    "matrix_trace = np.array([\n",
    "    [1, 2, 3],\n",
    "    [4, 5, 6],\n",
    "    [7, 8, 9]\n",
    "])\n",
    "\n",
    "trace_value = np.trace(matrix_trace)\n",
    "print(\"Matrix:\\n\", matrix_trace)\n",
    "print(\"Trace (1 + 5 + 9):\", trace_value) # Expected: 15\n",
    "\n",
    "print(\"\\n---\")\n",
    "\n",
    "another_matrix = np.array([\n",
    "    [10, 0],\n",
    "    [-3, 7]\n",
    "])\n",
    "another_trace = np.trace(another_matrix)\n",
    "print(\"Another Matrix:\\n\", another_matrix)\n",
    "print(\"Trace (10 + 7):\", another_trace) # Expected: 17"
   ],
   "metadata": {},
   "outputs": []
  },
  {
   "cell_type": "markdown",
   "source": [
    "### **Exercise 3: Calculating the Trace**\n",
    "\n",
    "1.  Calculate the trace of `S1 = np.array([[10, -2], [5, 12]])`.\n",
    "2.  Calculate the trace of `S2 = np.array([[1, 1, 1], [2, 2, 2], [3, 3, 3]])`.\n",
    "3.  Calculate the trace of a 4x4 identity matrix.\n",
    "4.  Print all matrices and their traces."
   ],
   "metadata": {}
  },
  {
   "cell_type": "code",
   "source": [
    "# Your code for Exercise 3 here\n"
   ],
   "metadata": {},
   "outputs": []
  },
  {
   "cell_type": "code",
   "source": [
    "# Solution for Exercise 3\n",
    "# 1. Trace of S1\n",
    "S1 = np.array([\n",
    "    [10, -2],\n",
    "    [5, 12]\n",
    "])\n",
    "trace_S1 = np.trace(S1)\n",
    "print(\"Matrix S1:\\n\", S1)\n",
    "print(\"Trace of S1:\", trace_S1) # Expected: 10 + 12 = 22\n",
    "\n",
    "# 2. Trace of S2\n",
    "S2 = np.array([\n",
    "    [1, 1, 1],\n",
    "    [2, 2, 2],\n",
    "    [3, 3, 3]\n",
    "])\n",
    "trace_S2 = np.trace(S2)\n",
    "print(\"\\nMatrix S2:\\n\", S2)\n",
    "print(\"Trace of S2:\", trace_S2) # Expected: 1 + 2 + 3 = 6\n",
    "\n",
    "# 3. Trace of a 4x4 identity matrix\n",
    "I4 = np.identity(4)\n",
    "trace_I4 = np.trace(I4)\n",
    "print(\"\\n4x4 Identity Matrix:\\n\", I4)\n",
    "print(\"Trace of I4:\", trace_I4) # Expected: 1 + 1 + 1 + 1 = 4\n"
   ],
   "metadata": {
    "collapsed": true
   },
   "outputs": []
  },
  {
   "cell_type": "markdown",
   "source": [
    "## Day 5 Summary and ML Connection\n",
    "\n",
    "We've covered several important concepts today, completing our first week of linear algebra fundamentals:\n",
    "\n",
    "-   **Special Matrices:**\n",
    "    -   **Identity Matrix ($I$):** Acts like '1' in matrix multiplication, representing no change or transformation. Important for matrix inverses and defining bases.\n",
    "    -   **Diagonal Matrix:** Non-zero elements only on the main diagonal. Simplifies calculations and is seen in various decompositions (like SVD).\n",
    "    -   **Symmetric Matrix:** Equal to its transpose. Crucial in covariance matrices (for PCA), spectral graph theory, and quadratic forms in optimization.\n",
    "    -   **Triangular Matrices:** All elements above or below the main diagonal are zero. Useful in solving systems of linear equations (Gaussian elimination) and matrix factorizations (LU decomposition).\n",
    "\n",
    "-   **Determinant:** A scalar value for square matrices indicating the scaling factor of the transformation and the invertibility of the matrix.\n",
    "    -   **det(A) = 0:** Matrix is singular, columns/rows are linearly dependent, implies a loss of dimension/information in the transformation.\n",
    "    -   **det(A) ≠ 0:** Matrix is invertible, columns/rows are linearly independent, implies a reversible transformation.\n",
    "    -   Crucial for understanding systems of equations, eigenvalue calculations, and matrix invertibility (which we'll see next week!).\n",
    "\n",
    "-   **Trace:** The sum of the diagonal elements of a square matrix.\n",
    "    -   While seemingly simple, it has connections to eigenvalues (sum of eigenvalues equals the trace) and is used in various formulas in machine learning, such as in the calculation of variance or certain regularization terms.\n",
    "\n",
    "Congratulations on completing Week 1! You've built a strong foundation in vector and matrix basics, operations, and special types. Next week, we'll dive into more advanced topics like inverse matrices, eigenvalues, eigenvectors, and the powerful Singular Value Decomposition, all of which are directly applicable to complex machine learning problems."
   ],
   "metadata": {}
  }
 ]
}
