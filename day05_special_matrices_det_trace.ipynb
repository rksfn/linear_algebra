{
 "cells": [
  {
   "cell_type": "markdown",
   "metadata": {},
   "source": [
    "# Day 5: Special Matrices, Determinants & Trace\n",
    "\n",
    "Welcome to Day 5, the final day of Week 1! Today, we'll explore some special types of matrices that have unique properties and specific roles in linear algebra and machine learning. We'll also introduce two important scalar values derived from square matrices: the determinant and the trace.\n",
    "\n",
    "## Objectives for Today:\n",
    "\n",
    "- Understand and create **Identity Matrices**.\n",
    "- Understand and create **Diagonal Matrices**.\n",
    "- Understand **Symmetric Matrices** and how to check for them.\n",
    "- Understand **Triangular Matrices**.\n",
    "- Calculate the **Determinant** of square matrices and interpret its meaning.\n",
    "- Calculate the **Trace** of square matrices.\n",
    "- Connect these concepts to their significance in Machine Learning.\n"
   ]
  },
  {
   "cell_type": "code",
   "execution_count": 2,
   "metadata": {
    "scrolled": true
   },
   "outputs": [],
   "source": [
    "# Import necessary libraries\n",
    "import numpy as np"
   ]
  },
  {
   "cell_type": "markdown",
   "metadata": {},
   "source": [
    "## 1. Special Matrices\n",
    "\n",
    "### a) Identity Matrix\n",
    "\n",
    "**Concept:** An identity matrix, denoted as $I$ (or $I_n$ for an `n x n` matrix), is a square matrix where all the elements on the main diagonal are 1s and all other elements are 0s. It acts like the number '1' in scalar multiplication (i.e., $A I = I A = A$).\n",
    "\n",
    "Example for $I_3$ (3x3 identity matrix):\n",
    "\n",
    "$$\n",
    "I_3 = \\begin{pmatrix}\n",
    "1 & 0 & 0 \\\\\n",
    "0 & 1 & 0 \\\\\n",
    "0 & 0 & 1\n",
    "\\end{pmatrix}\n",
    "$$\n",
    "\n",
    "**NumPy Practice:** Use `np.identity(n)` or `np.eye(n)`.\n"
   ]
  },
  {
   "cell_type": "code",
   "execution_count": null,
   "metadata": {},
   "outputs": [
    {
     "name": "stdout",
     "output_type": "stream",
     "text": [
      "3x3 Identity Matrix (using np.identity):\n",
      " [[1. 0. 0.]\n",
      " [0. 1. 0.]\n",
      " [0. 0. 1.]]\n",
      "\n",
      "---\n",
      "4x4 Identity Matrix (using np.eye):\n",
      " [[1. 0. 0. 0.]\n",
      " [0. 1. 0. 0.]\n",
      " [0. 0. 1. 0.]\n",
      " [0. 0. 0. 1.]]\n",
      "\n",
      "Matrix A:\n",
      " [[10 20 30]\n",
      " [40 50 60]\n",
      " [70 80 90]]\n",
      "\n",
      "A @ I:\n",
      " [[10. 20. 30.]\n",
      " [40. 50. 60.]\n",
      " [70. 80. 90.]]\n",
      "\n",
      "Are A and A @ I equal? True\n"
     ]
    }
   ],
   "source": [
    "# Create a 3x3 identity matrix\n",
    "identity_3x3 = np.identity(3)\n",
    "print(\"3x3 Identity Matrix (using np.identity):\\n\", identity_3x3)\n",
    "\n",
    "print(\"\\n---\")\n",
    "\n",
    "# Create a 4x4 identity matrix using np.eye\n",
    "identity_4x4 = np.eye(4)\n",
    "print(\"4x4 Identity Matrix (using np.eye):\\n\", identity_4x4)\n",
    "\n",
    "# Demonstrate A * I = A\n",
    "A = np.array([[10, 20, 30], [40, 50, 60], [70, 80, 90]])\n",
    "print(\"\\nMatrix A:\\n\", A)\n",
    "print(\"\\nA @ I:\\n\", A @ identity_3x3)\n",
    "print(\"\\nAre A and A @ I equal?\", np.array_equal(A, A @ identity_3x3))"
   ]
  },
  {
   "cell_type": "markdown",
   "metadata": {},
   "source": [
    "### b) Diagonal Matrix\n",
    "\n",
    "**Concept:** A diagonal matrix is a square matrix where all the elements outside the main diagonal are zero. The diagonal elements can be any value.\n",
    "\n",
    "Example:\n",
    "\n",
    "$$\n",
    "D = \\begin{pmatrix}\n",
    "2 & 0 & 0 \\\\\n",
    "0 & -5 & 0 \\\\\n",
    "0 & 0 & 7\n",
    "\\end{pmatrix}\n",
    "$$\n",
    "\n",
    "**NumPy Practice:** You can create one by passing a 1D array to `np.diag()`.\n"
   ]
  },
  {
   "cell_type": "code",
   "execution_count": null,
   "metadata": {},
   "outputs": [
    {
     "name": "stdout",
     "output_type": "stream",
     "text": [
      "Diagonal Matrix:\n",
      " [[ 2  0  0]\n",
      " [ 0 -5  0]\n",
      " [ 0  0  7]]\n",
      "\n",
      "---\n",
      "Original Matrix X:\n",
      " [[1 2 3]\n",
      " [4 5 6]\n",
      " [7 8 9]]\n",
      "Main diagonal of X: [1 5 9]\n"
     ]
    }
   ],
   "source": [
    "# Create a diagonal matrix from a list of diagonal elements\n",
    "diag_elements = np.array([2, -5, 7])\n",
    "diagonal_matrix = np.diag(diag_elements)\n",
    "print(\"Diagonal Matrix:\\n\", diagonal_matrix)\n",
    "\n",
    "print(\"\\n---\")\n",
    "\n",
    "# You can also extract the diagonal from an existing matrix\n",
    "matrix_X = np.array([[1, 2, 3], [4, 5, 6], [7, 8, 9]])\n",
    "main_diagonal = np.diag(matrix_X)\n",
    "print(\"Original Matrix X:\\n\", matrix_X)\n",
    "print(\"Main diagonal of X:\", main_diagonal)"
   ]
  },
  {
   "cell_type": "markdown",
   "metadata": {},
   "source": [
    "### c) Symmetric Matrix\n",
    "\n",
    "**Concept:** A square matrix $A$ is symmetric if it is equal to its transpose, i.e., $A = A^T$. This means that $a_{ij} = a_{ji}$ for all $i$ and $j$.\n",
    "\n",
    "Example:\n",
    "\n",
    "$$\n",
    "S = \\begin{pmatrix}\n",
    "1 & 2 & 3 \\\\\n",
    "2 & 4 & 5 \\\\\n",
    "3 & 5 & 6\n",
    "\\end{pmatrix}\n",
    "$$\n",
    "\n",
    "**NumPy Practice:** Create a matrix and compare it to its transpose using `np.array_equal()`.\n"
   ]
  },
  {
   "cell_type": "code",
   "execution_count": null,
   "metadata": {},
   "outputs": [
    {
     "name": "stdout",
     "output_type": "stream",
     "text": [
      "Symmetric Matrix:\n",
      " [[1 2 3]\n",
      " [2 4 5]\n",
      " [3 5 6]]\n",
      "\n",
      "Its Transpose:\n",
      " [[1 2 3]\n",
      " [2 4 5]\n",
      " [3 5 6]]\n",
      "\n",
      "Is it symmetric? True\n",
      "---\n",
      "Non-Symmetric Matrix:\n",
      " [[1 2 3]\n",
      " [4 5 6]\n",
      " [7 8 9]]\n",
      "\n",
      "Its Transpose:\n",
      " [[1 4 7]\n",
      " [2 5 8]\n",
      " [3 6 9]]\n",
      "\n",
      "Is it symmetric? False\n"
     ]
    }
   ],
   "source": [
    "# Example of a symmetric matrix\n",
    "symmetric_matrix = np.array([[1, 2, 3], [2, 4, 5], [3, 5, 6]])\n",
    "\n",
    "print(\"Symmetric Matrix:\\n\", symmetric_matrix)\n",
    "print(\"\\nIts Transpose:\\n\", symmetric_matrix.T)\n",
    "print(\"\\nIs it symmetric?\", np.array_equal(symmetric_matrix, symmetric_matrix.T))\n",
    "\n",
    "print(\"---\")\n",
    "\n",
    "# Example of a non-symmetric matrix\n",
    "non_symmetric_matrix = np.array([[1, 2, 3], [4, 5, 6], [7, 8, 9]])\n",
    "print(\"Non-Symmetric Matrix:\\n\", non_symmetric_matrix)\n",
    "print(\"\\nIts Transpose:\\n\", non_symmetric_matrix.T)\n",
    "print(\n",
    "    \"\\nIs it symmetric?\", np.array_equal(non_symmetric_matrix, non_symmetric_matrix.T)\n",
    ")"
   ]
  },
  {
   "cell_type": "markdown",
   "metadata": {},
   "source": [
    "### d) Triangular Matrices\n",
    "\n",
    "**Concept:**\n",
    "\n",
    "- **Upper Triangular Matrix:** A square matrix where all the elements _below_ the main diagonal are zero.\n",
    "- **Lower Triangular Matrix:** A square matrix where all the elements _above_ the main diagonal are zero.\n",
    "\n",
    "Example (Upper Triangular):\n",
    "\n",
    "$$\n",
    "U = \\begin{pmatrix}\n",
    "1 & 2 & 3 \\\\\n",
    "0 & 4 & 5 \\\\\n",
    "0 & 0 & 6\n",
    "\\end{pmatrix}\n",
    "$$\n",
    "\n",
    "**NumPy Practice:** Use `np.triu()` for upper triangular and `np.tril()` for lower triangular.\n"
   ]
  },
  {
   "cell_type": "code",
   "execution_count": null,
   "metadata": {},
   "outputs": [
    {
     "name": "stdout",
     "output_type": "stream",
     "text": [
      "Original Square Matrix:\n",
      " [[1 2 3]\n",
      " [4 5 6]\n",
      " [7 8 9]]\n",
      "\n",
      "Upper Triangular Matrix:\n",
      " [[1 2 3]\n",
      " [0 5 6]\n",
      " [0 0 9]]\n",
      "\n",
      "Lower Triangular Matrix:\n",
      " [[1 0 0]\n",
      " [4 5 0]\n",
      " [7 8 9]]\n",
      "\n",
      "Upper Triangular Matrix (k=1):\n",
      " [[0 0 0]\n",
      " [0 0 0]\n",
      " [0 0 0]]\n"
     ]
    }
   ],
   "source": [
    "square_matrix = np.array([[1, 2, 3], [4, 5, 6], [7, 8, 9]])\n",
    "\n",
    "print(\"Original Square Matrix:\\n\", square_matrix)\n",
    "\n",
    "upper_triangular = np.triu(square_matrix)\n",
    "print(\"\\nUpper Triangular Matrix:\\n\", upper_triangular)\n",
    "\n",
    "lower_triangular = np.tril(square_matrix)\n",
    "print(\"\\nLower Triangular Matrix:\\n\", lower_triangular)\n",
    "\n",
    "# You can also specify an offset (k) for the diagonal\n",
    "upper_triangular_offset = np.triu(square_matrix, k=3)  # Above the main diagonal\n",
    "print(\"\\nUpper Triangular Matrix (k=1):\\n\", upper_triangular_offset)"
   ]
  },
  {
   "cell_type": "markdown",
   "metadata": {},
   "source": [
    "### **Exercise 1: Creating and Identifying Special Matrices**\n",
    "\n",
    "1.  Create a 5x5 identity matrix `I5`.\n",
    "2.  Create a 4x4 diagonal matrix `D` where the diagonal elements are `[10, 20, 30, 40]`.\n",
    "3.  Given the matrix `M = np.array([[1, 2, 3], [2, 4, 5], [3, 5, 6]])`, determine if it is symmetric. Print the matrix, its transpose, and the boolean result.\n",
    "4.  Take the matrix `P = np.array([[1, 2, 3, 4], [5, 6, 7, 8], [9, 10, 11, 12], [13, 14, 15, 16]])`. Extract and print its lower triangular part.\n",
    "5.  Print all resulting matrices/values clearly.\n"
   ]
  },
  {
   "cell_type": "code",
   "execution_count": null,
   "metadata": {},
   "outputs": [
    {
     "name": "stdout",
     "output_type": "stream",
     "text": [
      "1. 5x5 Identity Matrix:\n",
      " [[1. 0. 0. 0. 0.]\n",
      " [0. 1. 0. 0. 0.]\n",
      " [0. 0. 1. 0. 0.]\n",
      " [0. 0. 0. 1. 0.]\n",
      " [0. 0. 0. 0. 1.]]\n",
      "\n",
      " 4x4 Diagonal Matrix:\n",
      " [[10  0  0  0]\n",
      " [ 0 20  0  0]\n",
      " [ 0  0 30  0]\n",
      " [ 0  0  0 40]]\n",
      "\n",
      "Matrix M:\n",
      " [[1 2 3]\n",
      " [2 4 5]\n",
      " [3 5 6]]\n",
      "\n",
      "The Transpose of M:\n",
      " [[1 2 3]\n",
      " [2 4 5]\n",
      " [3 5 6]]\n",
      "\n",
      "Is M symmetric?\n",
      " True\n",
      "\n",
      "Matrix P\n",
      ": [[ 1  2  3  4]\n",
      " [ 5  6  7  8]\n",
      " [ 9 10 11 12]\n",
      " [13 14 15 16]]\n",
      "\n",
      "Lower Triangular P\n",
      ": [[ 1  0  0  0]\n",
      " [ 5  6  0  0]\n",
      " [ 9 10 11  0]\n",
      " [13 14 15 16]]\n"
     ]
    }
   ],
   "source": [
    "# Your code for Exercise 1 here\n",
    "I5 = np.identity(5)\n",
    "print(\"1. 5x5 Identity Matrix:\\n\", I5)\n",
    "\n",
    "D_diag_elements = np.array([10, 20, 30, 40])\n",
    "D = np.diag(D_diag_elements)\n",
    "print(\"\\n 4x4 Diagonal Matrix:\\n\", D)\n",
    "\n",
    "M = np.array([[1, 2, 3], [2, 4, 5], [3, 5, 6]])\n",
    "print(\"\\nMatrix M:\\n\", M)\n",
    "print(\"\\nThe Transpose of M:\\n\", M.T)\n",
    "is_symmetric_M = np.array_equal(M, M.T)\n",
    "print(\"\\nIs M symmetric?\\n\", is_symmetric_M)\n",
    "\n",
    "P = np.array([[1, 2, 3, 4], [5, 6, 7, 8], [9, 10, 11, 12], [13, 14, 15, 16]])\n",
    "print(\"\\nMatrix P\\n:\", P)\n",
    "lower_P = np.tril(P)\n",
    "print(\"\\nLower Triangular P\\n:\", lower_P)"
   ]
  },
  {
   "cell_type": "code",
   "execution_count": 24,
   "metadata": {
    "collapsed": true
   },
   "outputs": [
    {
     "name": "stdout",
     "output_type": "stream",
     "text": [
      "1. 5x5 Identity Matrix:\n",
      " [[1. 0. 0. 0. 0.]\n",
      " [0. 1. 0. 0. 0.]\n",
      " [0. 0. 1. 0. 0.]\n",
      " [0. 0. 0. 1. 0.]\n",
      " [0. 0. 0. 0. 1.]]\n",
      "\n",
      "2. 4x4 Diagonal Matrix:\n",
      " [[10  0  0  0]\n",
      " [ 0 20  0  0]\n",
      " [ 0  0 30  0]\n",
      " [ 0  0  0 40]]\n",
      "\n",
      "3. Matrix M:\n",
      " [[1 2 3]\n",
      " [2 4 5]\n",
      " [3 5 6]]\n",
      "Transpose of M:\n",
      " [[1 2 3]\n",
      " [2 4 5]\n",
      " [3 5 6]]\n",
      "Is M symmetric? True\n",
      "\n",
      "4. Original Matrix P:\n",
      " [[ 1  2  3  4]\n",
      " [ 5  6  7  8]\n",
      " [ 9 10 11 12]\n",
      " [13 14 15 16]]\n",
      "Lower Triangular part of P:\n",
      " [[ 1  0  0  0]\n",
      " [ 5  6  0  0]\n",
      " [ 9 10 11  0]\n",
      " [13 14 15 16]]\n"
     ]
    }
   ],
   "source": [
    "# Solution for Exercise 1\n",
    "# 1. 5x5 Identity Matrix\n",
    "I5 = np.identity(5)\n",
    "print(\"1. 5x5 Identity Matrix:\\n\", I5)\n",
    "\n",
    "# 2. 4x4 Diagonal Matrix\n",
    "D_diag_elements = np.array([10, 20, 30, 40])\n",
    "D = np.diag(D_diag_elements)\n",
    "print(\"\\n2. 4x4 Diagonal Matrix:\\n\", D)\n",
    "\n",
    "# 3. Check for Symmetric Matrix\n",
    "M = np.array([[1, 2, 3], [2, 4, 5], [3, 5, 6]])\n",
    "print(\"\\n3. Matrix M:\\n\", M)\n",
    "print(\"Transpose of M:\\n\", M.T)\n",
    "is_symmetric_M = np.array_equal(M, M.T)\n",
    "print(\"Is M symmetric?\", is_symmetric_M)\n",
    "\n",
    "# 4. Lower Triangular Part\n",
    "P = np.array([[1, 2, 3, 4], [5, 6, 7, 8], [9, 10, 11, 12], [13, 14, 15, 16]])\n",
    "print(\"\\n4. Original Matrix P:\\n\", P)\n",
    "lower_P = np.tril(P)\n",
    "print(\"Lower Triangular part of P:\\n\", lower_P)"
   ]
  },
  {
   "cell_type": "markdown",
   "metadata": {},
   "source": [
    "## 2. Determinant of a Square Matrix\n",
    "\n",
    "### Concept\n",
    "\n",
    "The **determinant** is a scalar value that can be computed from the elements of a square matrix. It provides important information about the matrix.\n",
    "\n",
    "**Key Interpretations:**\n",
    "\n",
    "- The determinant of a matrix represents the **scaling factor** of the linear transformation described by the matrix. If you transform an area/volume with the matrix, the determinant tells you how much that area/volume is scaled.\n",
    "- If $\\text{det}(A) = 0$, the matrix $A$ is **singular** (or non-invertible). This means the transformation collapses dimensions, e.g., mapping a 2D plane to a 1D line or a point. It implies that the matrix's columns (and rows) are linearly dependent.\n",
    "- If $\\text{det}(A) \\neq 0$, the matrix $A$ is **invertible**, meaning a unique inverse transformation exists.\n",
    "\n",
    "**Formulas:**\n",
    "\n",
    "- For a 2x2 matrix $A = \\begin{pmatrix} a & b \\\\ c & d \\end{pmatrix}$, $\\text{det}(A) = ad - bc$.\n",
    "- For larger matrices, the calculation becomes more involved (e.g., cofactor expansion), but NumPy handles it easily.\n",
    "\n",
    "### NumPy Practice\n",
    "\n",
    "Use `np.linalg.det()` to calculate the determinant.\n"
   ]
  },
  {
   "cell_type": "code",
   "execution_count": 25,
   "metadata": {},
   "outputs": [
    {
     "name": "stdout",
     "output_type": "stream",
     "text": [
      "Matrix 2x2:\n",
      " [[4 1]\n",
      " [2 5]]\n",
      "Determinant (4*5 - 1*2): 17.999999999999996\n",
      "\n",
      "---\n",
      "Matrix 3x3:\n",
      " [[1 2 1]\n",
      " [3 4 0]\n",
      " [2 1 5]]\n",
      "Determinant: -15.000000000000007\n",
      "\n",
      "---\n",
      "Singular Matrix:\n",
      " [[1 2]\n",
      " [2 4]]\n",
      "Determinant (1*4 - 2*2): 0.0\n"
     ]
    }
   ],
   "source": [
    "# 2x2 Matrix example\n",
    "matrix_2x2 = np.array([[4, 1], [2, 5]])\n",
    "det_2x2 = np.linalg.det(matrix_2x2)\n",
    "print(\"Matrix 2x2:\\n\", matrix_2x2)\n",
    "print(\"Determinant (4*5 - 1*2):\", det_2x2)  # Expected: 20 - 2 = 18\n",
    "\n",
    "print(\"\\n---\")\n",
    "\n",
    "# 3x3 Matrix example\n",
    "matrix_3x3 = np.array([[1, 2, 1], [3, 4, 0], [2, 1, 5]])\n",
    "det_3x3 = np.linalg.det(matrix_3x3)\n",
    "print(\"Matrix 3x3:\\n\", matrix_3x3)\n",
    "print(\"Determinant:\", det_3x3)\n",
    "\n",
    "print(\"\\n---\")\n",
    "\n",
    "# Example of a singular matrix (determinant close to zero)\n",
    "# Here, row 2 is a multiple of row 0, so rows are linearly dependent\n",
    "singular_matrix = np.array([[1, 2], [2, 4]])\n",
    "det_singular = np.linalg.det(singular_matrix)\n",
    "print(\"Singular Matrix:\\n\", singular_matrix)\n",
    "print(\"Determinant (1*4 - 2*2):\", det_singular)  # Expected: 4 - 4 = 0"
   ]
  },
  {
   "cell_type": "markdown",
   "metadata": {},
   "source": [
    "### **Exercise 2: Calculating Determinants**\n",
    "\n",
    "1.  Calculate the determinant of `M1 = np.array([[6, 3], [2, 1]])`.\n",
    "2.  Calculate the determinant of `M2 = np.array([[1, 2, 3], [0, 1, 4], [5, 6, 0]])`.\n",
    "3.  Create a matrix `M3` where the determinant is very close to zero (indicating linear dependence of rows/columns). You can achieve this by making one row a linear combination of others. For example, in a 3x3 matrix, `row3 = row1 + row2`.\n",
    "4.  Print all matrices and their determinants.\n",
    "5.  For `M1`, interpret what its determinant means regarding the invertibility of the matrix and the linear independence of its columns/rows.\n",
    "    _Hint: If det is 0, it's singular. If not 0, it's invertible._\n"
   ]
  },
  {
   "cell_type": "code",
   "execution_count": 3,
   "metadata": {},
   "outputs": [
    {
     "name": "stdout",
     "output_type": "stream",
     "text": [
      "Matrix M1:\n",
      " [[6 3]\n",
      " [2 1]]\n",
      "\n",
      "Determinant of M1:\n",
      " 0.0\n",
      "The determinant is 0, so the transformation collapses into a singular dimension.\n",
      "Matrix M2:\n",
      " [[1 2 3]\n",
      " [0 1 4]\n",
      " [5 6 0]]\n",
      "\n",
      "Determinant of M2:\n",
      " 0.9999999999999964\n",
      "Matrix M3:\n",
      " [[ 1  3  6]\n",
      " [ 4 10  2]\n",
      " [ 5 13  8]]\n",
      "\n",
      "Determinant of M3:\n",
      " 1.0658141036401509e-14\n"
     ]
    }
   ],
   "source": [
    "# Your code for Exercise 2 here\n",
    "M1 = np.array([[6, 3], [2, 1]])\n",
    "det_M1 = np.linalg.det(M1)\n",
    "print(\"Matrix M1:\\n\", M1)\n",
    "print(\"\\nDeterminant of M1:\\n\", det_M1)\n",
    "# Your interpretation for M1's determinant here:\n",
    "if np.isclose(det_M1, 0):\n",
    "    print(\"The determinant is 0, so the transformation collapses into a singular dimension.\")\n",
    "else:\n",
    "    print(\"The determinant ≠ 0 , so the transfomation is invertable.\")\n",
    "\n",
    "M2 = np.array([[1, 2, 3], [0, 1, 4], [5, 6, 0]])\n",
    "det_M2 = np.linalg.det(M2)\n",
    "print(\"Matrix M2:\\n\", M2)\n",
    "print(\"\\nDeterminant of M2:\\n\", det_M2)\n",
    "\n",
    "M3 = np.array([[1, 3, 6], [4, 10, 2], [5, 13, 8]])\n",
    "det_M3 = np.linalg.det(M3)\n",
    "print(\"Matrix M3:\\n\", M3)\n",
    "print(\"\\nDeterminant of M3:\\n\", det_M3)\n"
   ]
  },
  {
   "cell_type": "code",
   "execution_count": 4,
   "metadata": {
    "collapsed": true
   },
   "outputs": [
    {
     "name": "stdout",
     "output_type": "stream",
     "text": [
      "Matrix M1:\n",
      " [[6 3]\n",
      " [2 1]]\n",
      "Determinant of M1: 0.0\n",
      "Interpretation for M1: The determinant is 0. This means M1 is a singular (non-invertible) matrix.\n",
      "Its columns (or rows) are linearly dependent, meaning one is a scalar multiple of the other.\n",
      " Geometrically, it collapses the space, e.g., mapping a 2D area to a 1D line.\n",
      "\n",
      "Matrix M2:\n",
      " [[1 2 3]\n",
      " [0 1 4]\n",
      " [5 6 0]]\n",
      "Determinant of M2: 0.9999999999999964\n",
      "\n",
      "Matrix M3 (designed to be singular):\n",
      " [[1 2 3]\n",
      " [4 5 6]\n",
      " [5 7 9]]\n",
      "Determinant of M3: 2.664535259100367e-15\n"
     ]
    }
   ],
   "source": [
    "# Solution for Exercise 2\n",
    "# 1. Determinant of M1\n",
    "M1 = np.array([[6, 3], [2, 1]])\n",
    "det_M1 = np.linalg.det(M1)\n",
    "print(\"Matrix M1:\\n\", M1)\n",
    "print(\"Determinant of M1:\", det_M1)\n",
    "\n",
    "# Interpretation for M1:\n",
    "if np.isclose(det_M1, 0):\n",
    "    print(\n",
    "        \"Interpretation for M1: The determinant is 0. This means M1 is a singular (non-invertible) matrix.\"\n",
    "    )\n",
    "    print(\n",
    "        \"Its columns (or rows) are linearly dependent, meaning one is a scalar multiple of the other.\\n\",\n",
    "        \"Geometrically, it collapses the space, e.g., mapping a 2D area to a 1D line.\",\n",
    "    )\n",
    "else:\n",
    "    print(\n",
    "        \"Interpretation for M1: The determinant is non-zero. This means M1 is an invertible matrix.\"\n",
    "    )\n",
    "    print(\n",
    "        \"Its columns (or rows) are linearly independent. Geometrically, it scales the space without collapsing it.\"\n",
    "    )\n",
    "\n",
    "# 2. Determinant of M2\n",
    "M2 = np.array([[1, 2, 3], [0, 1, 4], [5, 6, 0]])\n",
    "det_M2 = np.linalg.det(M2)\n",
    "print(\"\\nMatrix M2:\\n\", M2)\n",
    "print(\"Determinant of M2:\", det_M2)\n",
    "\n",
    "# 3. Create a matrix with determinant close to zero\n",
    "M3 = np.array([[1, 2, 3], [4, 5, 6], [5, 7, 9]])  # row3 = row1 + row2\n",
    "det_M3 = np.linalg.det(M3)\n",
    "print(\"\\nMatrix M3 (designed to be singular):\\n\", M3)\n",
    "print(\"Determinant of M3:\", det_M3)  # Should be very close to 0"
   ]
  },
  {
   "cell_type": "markdown",
   "id": "3e8d289e",
   "metadata": {},
   "source": [
    "## 3. Trace of a Square Matrix\n",
    "\n",
    "### Concept\n",
    "\n",
    "The **trace** of a square matrix is the sum of the elements on its main diagonal. It's a simple scalar value, but it has surprising applications in various mathematical and engineering fields, including matrix calculus and quantum mechanics.\n",
    "\n",
    "For $A = \\begin{pmatrix} a_{11} & a_{12} & a_{13} \\\\ a_{21} & a_{22} & a_{23} \\\\ a_{31} & a_{32} & a_{33} \\end{pmatrix}$, $\\text{trace}(A) = a_{11} + a_{22} + a_{33}$.\n",
    "\n",
    "### NumPy Practice\n",
    "\n",
    "Use `np.trace()` to calculate the trace.\n"
   ]
  },
  {
   "cell_type": "code",
   "execution_count": 5,
   "metadata": {},
   "outputs": [
    {
     "name": "stdout",
     "output_type": "stream",
     "text": [
      "Matrix:\n",
      " [[1 2 3]\n",
      " [4 5 6]\n",
      " [7 8 9]]\n",
      "Trace (1 + 5 + 9): 15\n",
      "\n",
      "---\n",
      "Another Matrix:\n",
      " [[10  0]\n",
      " [-3  7]]\n",
      "Trace (10 + 7): 17\n"
     ]
    }
   ],
   "source": [
    "matrix_trace = np.array([[1, 2, 3], [4, 5, 6], [7, 8, 9]])\n",
    "\n",
    "trace_value = np.trace(matrix_trace)\n",
    "print(\"Matrix:\\n\", matrix_trace)\n",
    "print(\"Trace (1 + 5 + 9):\", trace_value)  # Expected: 15\n",
    "\n",
    "print(\"\\n---\")\n",
    "\n",
    "another_matrix = np.array([[10, 0], [-3, 7]])\n",
    "another_trace = np.trace(another_matrix)\n",
    "print(\"Another Matrix:\\n\", another_matrix)\n",
    "print(\"Trace (10 + 7):\", another_trace)  # Expected: 17"
   ]
  },
  {
   "cell_type": "markdown",
   "metadata": {},
   "source": [
    "### **Exercise 3: Calculating the Trace**\n",
    "\n",
    "1.  Calculate the trace of `S1 = np.array([[10, -2], [5, 12]])`.\n",
    "2.  Calculate the trace of `S2 = np.array([[1, 1, 1], [2, 2, 2], [3, 3, 3]])`.\n",
    "3.  Calculate the trace of a 4x4 identity matrix.\n",
    "4.  Print all matrices and their traces.\n"
   ]
  },
  {
   "cell_type": "code",
   "execution_count": 8,
   "metadata": {},
   "outputs": [
    {
     "name": "stdout",
     "output_type": "stream",
     "text": [
      "Matrix S1:\n",
      " [[10 -2]\n",
      " [ 5 12]]\n",
      "\n",
      "Trace of S1:\n",
      " 22\n",
      "\n",
      "Matrix S2:\n",
      " [[1 1 1]\n",
      " [2 2 2]\n",
      " [3 3 3]]\n",
      "\n",
      "Trace of S2:\n",
      " 6\n",
      "\n",
      "Matrix I4:\n",
      " [[1. 0. 0. 0.]\n",
      " [0. 1. 0. 0.]\n",
      " [0. 0. 1. 0.]\n",
      " [0. 0. 0. 1.]]\n",
      "\n",
      "Trace of I4:\n",
      " 4.0\n"
     ]
    }
   ],
   "source": [
    "# Your code for Exercise 3 here\n",
    "S1 = np.array([[10, -2], [5, 12]])\n",
    "trace_S1 = np.trace(S1)\n",
    "print(\"Matrix S1:\\n\", S1)\n",
    "print(\"\\nTrace of S1:\\n\", trace_S1)\n",
    "\n",
    "S2 = np.array([[1, 1, 1], [2, 2, 2], [3, 3, 3]])\n",
    "trace_S2 = np.trace(S2)\n",
    "print(\"\\nMatrix S2:\\n\", S2)\n",
    "print(\"\\nTrace of S2:\\n\", trace_S2)\n",
    "\n",
    "I4 = np.identity(4)\n",
    "trace_I4 = np.trace(I4)\n",
    "print(\"\\nMatrix I4:\\n\", I4)\n",
    "print(\"\\nTrace of I4:\\n\", trace_I4)"
   ]
  },
  {
   "cell_type": "code",
   "execution_count": 9,
   "metadata": {
    "collapsed": true
   },
   "outputs": [
    {
     "name": "stdout",
     "output_type": "stream",
     "text": [
      "Matrix S1:\n",
      " [[10 -2]\n",
      " [ 5 12]]\n",
      "Trace of S1: 22\n",
      "\n",
      "Matrix S2:\n",
      " [[1 1 1]\n",
      " [2 2 2]\n",
      " [3 3 3]]\n",
      "Trace of S2: 6\n",
      "\n",
      "4x4 Identity Matrix:\n",
      " [[1. 0. 0. 0.]\n",
      " [0. 1. 0. 0.]\n",
      " [0. 0. 1. 0.]\n",
      " [0. 0. 0. 1.]]\n",
      "Trace of I4: 4.0\n"
     ]
    }
   ],
   "source": [
    "# Solution for Exercise 3\n",
    "# 1. Trace of S1\n",
    "S1 = np.array([[10, -2], [5, 12]])\n",
    "trace_S1 = np.trace(S1)\n",
    "print(\"Matrix S1:\\n\", S1)\n",
    "print(\"Trace of S1:\", trace_S1)  # Expected: 10 + 12 = 22\n",
    "\n",
    "# 2. Trace of S2\n",
    "S2 = np.array([[1, 1, 1], [2, 2, 2], [3, 3, 3]])\n",
    "trace_S2 = np.trace(S2)\n",
    "print(\"\\nMatrix S2:\\n\", S2)\n",
    "print(\"Trace of S2:\", trace_S2)  # Expected: 1 + 2 + 3 = 6\n",
    "\n",
    "# 3. Trace of a 4x4 identity matrix\n",
    "I4 = np.identity(4)\n",
    "trace_I4 = np.trace(I4)\n",
    "print(\"\\n4x4 Identity Matrix:\\n\", I4)\n",
    "print(\"Trace of I4:\", trace_I4)  # Expected: 1 + 1 + 1 + 1 = 4"
   ]
  },
  {
   "cell_type": "markdown",
   "metadata": {},
   "source": [
    "## Day 5 Summary and ML Connection\n",
    "\n",
    "We've covered several important concepts today, completing our first week of linear algebra fundamentals:\n",
    "\n",
    "- **Special Matrices:**\n",
    "\n",
    "  - **Identity Matrix ($I$):** Acts like '1' in matrix multiplication, representing no change or transformation. Important for matrix inverses and defining bases.\n",
    "  - **Diagonal Matrix:** Non-zero elements only on the main diagonal. Simplifies calculations and is seen in various decompositions (like SVD).\n",
    "  - **Symmetric Matrix:** Equal to its transpose. Crucial in covariance matrices (for PCA), spectral graph theory, and quadratic forms in optimization.\n",
    "  - **Triangular Matrices:** All elements above or below the main diagonal are zero. Useful in solving systems of linear equations (Gaussian elimination) and matrix factorizations (LU decomposition).\n",
    "\n",
    "- **Determinant:** A scalar value for square matrices indicating the scaling factor of the transformation and the invertibility of the matrix.\n",
    "\n",
    "  - **det(A) = 0:** Matrix is singular, columns/rows are linearly dependent, implies a loss of dimension/information in the transformation.\n",
    "  - **det(A) ≠ 0:** Matrix is invertible, columns/rows are linearly independent, implies a reversible transformation.\n",
    "  - Crucial for understanding systems of equations, eigenvalue calculations, and matrix invertibility (which we'll see next week!).\n",
    "\n",
    "- **Trace:** The sum of the diagonal elements of a square matrix.\n",
    "  - While seemingly simple, it has connections to eigenvalues (sum of eigenvalues equals the trace) and is used in various formulas in machine learning, such as in the calculation of variance or certain regularization terms.\n",
    "\n",
    "Congratulations on completing Week 1! You've built a strong foundation in vector and matrix basics, operations, and special types. Next week, we'll dive into more advanced topics like inverse matrices, eigenvalues, eigenvectors, and the powerful Singular Value Decomposition, all of which are directly applicable to complex machine learning problems.\n"
   ]
  }
 ],
 "metadata": {
  "colab": {
   "provenance": []
  },
  "kernelspec": {
   "display_name": ".venv",
   "language": "python",
   "name": "python3"
  },
  "language_info": {
   "codemirror_mode": {
    "name": "ipython",
    "version": 3
   },
   "file_extension": ".py",
   "mimetype": "text/x-python",
   "name": "python",
   "nbconvert_exporter": "python",
   "pygments_lexer": "ipython3",
   "version": "3.13.7"
  }
 },
 "nbformat": 4,
 "nbformat_minor": 5
}
