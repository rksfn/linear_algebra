{
 "cells": [
  {
   "cell_type": "markdown",
   "metadata": {},
   "source": [
    "# Day 6: Inverse Matrices and Solving Linear Systems\n",
    "\n",
    "Welcome to Day 6! Today, we delve into one of the most powerful concepts in linear algebra: the inverse of a matrix. Understanding matrix inverses is crucial for solving systems of linear equations, which forms the backbone of many machine learning algorithms.\n",
    "\n",
    "## Objectives for Today:\n",
    "- Understand the concept of an **inverse matrix**.\n",
    "- Implement **matrix inversion** using NumPy.\n",
    "- Identify **singular matrices** (matrices without an inverse).\n",
    "- Understand how inverse matrices are used to **solve linear systems** (Ax = b).\n",
    "- Implement solving linear systems directly using NumPy's `np.linalg.solve()` function.\n",
    "- Connect these concepts to their applications in Machine Learning."
   ]
  },
  {
   "cell_type": "code",
   "execution_count": 1,
   "metadata": {},
   "outputs": [],
   "source": [
    "# Import necessary libraries\n",
    "import numpy as np"
   ]
  },
  {
   "cell_type": "markdown",
   "metadata": {},
   "source": [
    "## 1. Inverse Matrices\n",
    "\n",
    "### Concept\n",
    "For a square matrix $A$, its inverse, denoted $A^{-1}$, is a matrix such that when multiplied by $A$, it yields the identity matrix $I$. Mathematically, this is expressed as:\n",
    "\n",
    "$A A^{-1} = A^{-1} A = I$\n",
    "\n",
    "The identity matrix $I$ is a square matrix with ones on the main diagonal and zeros elsewhere (e.g., for a 2x2 matrix, $I = \\begin{pmatrix} 1 & 0 \\\\ 0 & 1 \\end{pmatrix}$). Multiplying any matrix by the identity matrix leaves the original matrix unchanged.\n",
    "\n",
    "**Key Points:**\n",
    "-   Only **square matrices** (n x n) can have an inverse.\n",
    "-   Not all square matrices have inverses. A matrix that does not have an inverse is called a **singular matrix**. A matrix is singular if its determinant is zero.\n",
    "\n",
    "### NumPy Practice\n",
    "NumPy's `np.linalg.inv()` function is used to calculate the inverse of a matrix."
   ]
  },
  {
   "cell_type": "code",
   "execution_count": 2,
   "metadata": {},
   "outputs": [
    {
     "name": "stdout",
     "output_type": "stream",
     "text": [
      "Original Matrix A:\n",
      " [[2 1]\n",
      " [1 1]]\n",
      "\n",
      "Inverse of A (A_inv):\n",
      " [[ 1. -1.]\n",
      " [-1.  2.]]\n",
      "\n",
      "A @ A_inv:\n",
      " [[1. 0.]\n",
      " [0. 1.]]\n",
      "Is A @ A_inv approximately the identity matrix? True\n",
      "\n",
      "Singular Matrix S:\n",
      " [[1 2]\n",
      " [2 4]]\n",
      "Error: Cannot invert singular matrix.  Singular matrix\n"
     ]
    }
   ],
   "source": [
    "# Example 1: Inverting a 2x2 matrix\n",
    "A = np.array([[2, 1],\n",
    "              [1, 1]])\n",
    "\n",
    "print(\"Original Matrix A:\\n\", A)\n",
    "\n",
    "# Calculate the inverse\n",
    "A_inv = np.linalg.inv(A)\n",
    "print(\"\\nInverse of A (A_inv):\\n\", A_inv)\n",
    "\n",
    "# Verify the inverse: A @ A_inv should be the identity matrix\n",
    "identity_check = A @ A_inv\n",
    "print(\"\\nA @ A_inv:\\n\", identity_check)\n",
    "\n",
    "# Due to floating-point precision, directly comparing with '==' might fail.\n",
    "# Use np.allclose() for robust comparison.\n",
    "is_identity = np.allclose(identity_check, np.eye(2))\n",
    "print(\"Is A @ A_inv approximately the identity matrix?\", is_identity)\n",
    "\n",
    "# Example 2: Attempting to invert a singular matrix\n",
    "S = np.array([[1, 2],\n",
    "              [2, 4]]) # Determinant is (1*4 - 2*2) = 0\n",
    "\n",
    "print(\"\\nSingular Matrix S:\\n\", S)\n",
    "\n",
    "try:\n",
    "    S_inv = np.linalg.inv(S)\n",
    "    print(\"Inverse of S:\\n\", S_inv)\n",
    "except np.linalg.LinAlgError as e:\n",
    "    print(\"Error: Cannot invert singular matrix. \", e)\n"
   ]
  },
  {
   "cell_type": "markdown",
   "metadata": {},
   "source": [
    "### **Exercise 1: Matrix Inversion**\n",
    "\n",
    "1.  Define a 3x3 matrix:\n",
    "    `M = np.array([[1, 2, 0], [0, 1, 0], [1, 0, 1]])`\n",
    "2.  Calculate its inverse `M_inv`.\n",
    "3.  Verify the inversion by multiplying `M` by `M_inv` and checking if the result is approximately the identity matrix.\n",
    "4.  Define a singular 2x2 matrix:\n",
    "    `S_singular = np.array([[6, 3], [4, 2]])`\n",
    "5.  Attempt to calculate the inverse of `S_singular` and print the error message if an error occurs."
   ]
  },
  {
   "cell_type": "code",
   "execution_count": 3,
   "metadata": {},
   "outputs": [],
   "source": [
    "# Your code for Exercise 1 here\n"
   ]
  },
  {
   "cell_type": "code",
   "execution_count": 4,
   "metadata": {
    "collapsed": true
   },
   "outputs": [
    {
     "name": "stdout",
     "output_type": "stream",
     "text": [
      "Original Matrix M:\n",
      " [[1 2 0]\n",
      " [0 1 0]\n",
      " [1 0 1]]\n",
      "\n",
      "Inverse of M (M_inv):\n",
      " [[ 1. -2.  0.]\n",
      " [-0.  1. -0.]\n",
      " [-1.  2.  1.]]\n",
      "\n",
      "M @ M_inv:\n",
      " [[1. 0. 0.]\n",
      " [0. 1. 0.]\n",
      " [0. 0. 1.]]\n",
      "Is M @ M_inv approximately the identity matrix? True\n",
      "\n",
      "Singular Matrix S_singular:\n",
      " [[6 3]\n",
      " [4 2]]\n",
      "Error: Cannot invert singular matrix.  Singular matrix\n"
     ]
    }
   ],
   "source": [
    "# Solution for Exercise 1\n",
    "M = np.array([[1, 2, 0],\n",
    "              [0, 1, 0],\n",
    "              [1, 0, 1]])\n",
    "\n",
    "print(\"Original Matrix M:\\n\", M)\n",
    "\n",
    "# Calculate the inverse\n",
    "M_inv = np.linalg.inv(M)\n",
    "print(\"\\nInverse of M (M_inv):\\n\", M_inv)\n",
    "\n",
    "# Verify the inverse\n",
    "identity_check_M = M @ M_inv\n",
    "print(\"\\nM @ M_inv:\\n\", identity_check_M)\n",
    "\n",
    "is_identity_M = np.allclose(identity_check_M, np.eye(3))\n",
    "print(\"Is M @ M_inv approximately the identity matrix?\", is_identity_M)\n",
    "\n",
    "# Singular matrix example\n",
    "S_singular = np.array([[6, 3],\n",
    "                       [4, 2]])\n",
    "\n",
    "print(\"\\nSingular Matrix S_singular:\\n\", S_singular)\n",
    "try:\n",
    "    S_singular_inv = np.linalg.inv(S_singular)\n",
    "    print(\"Inverse of S_singular:\\n\", S_singular_inv)\n",
    "except np.linalg.LinAlgError as e:\n",
    "    print(\"Error: Cannot invert singular matrix. \", e)\n"
   ]
  },
  {
   "cell_type": "markdown",
   "metadata": {},
   "source": [
    "## 2. Solving Linear Systems (Ax = b) using Inverse\n",
    "\n",
    "### Concept\n",
    "A system of linear equations can be represented in matrix form as:\n",
    "\n",
    "$A\\mathbf{x} = \\mathbf{b}$\n",
    "\n",
    "where:\n",
    "-   $A$ is the coefficient matrix.\n",
    "-   $\\mathbf{x}$ is the vector of unknown variables.\n",
    "-   $\\mathbf{b}$ is the constant vector.\n",
    "\n",
    "If $A$ is an invertible square matrix, we can solve for $\\mathbf{x}$ by multiplying both sides by $A^{-1}$:\n",
    "\n",
    "$A^{-1} A\\mathbf{x} = A^{-1} \\mathbf{b}$\n",
    "$I\\mathbf{x} = A^{-1} \\mathbf{b}$\n",
    "$\\mathbf{x} = A^{-1} \\mathbf{b}$\n",
    "\n",
    "This method provides an exact solution to the system. However, computing the inverse of a matrix can be computationally expensive and numerically unstable for large or ill-conditioned matrices. For practical applications, especially in machine learning, direct solvers are often preferred (as we'll see in the next section).\n",
    "\n",
    "### NumPy Practice\n",
    "Let's solve a simple 2x2 system:\n",
    "\n",
    "$2x + y = 5$\n",
    "$x + y = 3$\n",
    "\n",
    "This system can be written as $A\\mathbf{x} = \\mathbf{b}$ where:\n",
    "\n",
    "$A = \\begin{pmatrix} 2 & 1 \\\\ 1 & 1 \\end{pmatrix}$, $\\mathbf{x} = \\begin{pmatrix} x \\\\ y \\end{pmatrix}$, $\\mathbf{b} = \\begin{pmatrix} 5 \\\\ 3 \\end{pmatrix}$"
   ]
  },
  {
   "cell_type": "code",
   "execution_count": 5,
   "metadata": {},
   "outputs": [
    {
     "name": "stdout",
     "output_type": "stream",
     "text": [
      "Coefficient Matrix A:\n",
      " [[2 1]\n",
      " [1 1]]\n",
      "Constant Vector b: [5 3]\n",
      "\n",
      "Inverse of A (A_inv):\n",
      " [[ 1. -1.]\n",
      " [-1.  2.]]\n",
      "\n",
      "Solution vector x (x, y): [2. 1.]\n",
      "\n",
      "Verification (A @ x): [5. 3.]\n",
      "Is A @ x approximately equal to b? True\n"
     ]
    }
   ],
   "source": [
    "# Define the coefficient matrix A and the constant vector b\n",
    "A = np.array([[2, 1],\n",
    "              [1, 1]])\n",
    "b = np.array([5, 3])\n",
    "\n",
    "print(\"Coefficient Matrix A:\\n\", A)\n",
    "print(\"Constant Vector b:\", b)\n",
    "\n",
    "# Calculate the inverse of A\n",
    "A_inv = np.linalg.inv(A)\n",
    "print(\"\\nInverse of A (A_inv):\\n\", A_inv)\n",
    "\n",
    "# Solve for x using x = A_inv @ b\n",
    "x = A_inv @ b\n",
    "print(\"\\nSolution vector x (x, y):\", x)\n",
    "\n",
    "# Verify the solution: A @ x should be equal to b\n",
    "verification = A @ x\n",
    "print(\"\\nVerification (A @ x):\", verification)\n",
    "is_correct = np.allclose(verification, b)\n",
    "print(\"Is A @ x approximately equal to b?\", is_correct)\n"
   ]
  },
  {
   "cell_type": "markdown",
   "metadata": {},
   "source": [
    "### **Exercise 2: Solving a 3x3 System**\n",
    "\n",
    "Solve the following system of linear equations using matrix inversion:\n",
    "\n",
    "$x + 2y + z = 4$\n",
    "$2x + 0y + z = 5$\n",
    "$x - y + 3z = 3$\n",
    "\n",
    "1.  Represent the system as $A\\mathbf{x} = \\mathbf{b}$.\n",
    "2.  Calculate $A^{-1}$.\n",
    "3.  Solve for $\\mathbf{x}$.\n",
    "4.  Print matrix $A$, vector $\\mathbf{b}$, and the solution vector $\\mathbf{x}$.\n",
    "5.  Verify your solution."
   ]
  },
  {
   "cell_type": "code",
   "execution_count": 6,
   "metadata": {},
   "outputs": [],
   "source": [
    "# Your code for Exercise 2 here\n"
   ]
  },
  {
   "cell_type": "code",
   "execution_count": 7,
   "metadata": {
    "collapsed": true
   },
   "outputs": [
    {
     "name": "stdout",
     "output_type": "stream",
     "text": [
      "Coefficient Matrix A:\n",
      " [[ 1  2  1]\n",
      " [ 2  0  1]\n",
      " [ 1 -1  3]]\n",
      "Constant Vector b: [4 5 3]\n",
      "\n",
      "Inverse of A (A_ex2_inv):\n",
      " [[-0.09090909  0.63636364 -0.18181818]\n",
      " [ 0.45454545 -0.18181818 -0.09090909]\n",
      " [ 0.18181818 -0.27272727  0.36363636]]\n",
      "\n",
      "Solution vector x (x, y, z): [2.27272727 0.63636364 0.45454545]\n",
      "\n",
      "Verification (A @ x): [4. 5. 3.]\n",
      "Is A @ x approximately equal to b? True\n"
     ]
    }
   ],
   "source": [
    "# Solution for Exercise 2\n",
    "A_ex2 = np.array([[1, 2, 1],\n",
    "                  [2, 0, 1],\n",
    "                  [1, -1, 3]])\n",
    "\n",
    "b_ex2 = np.array([4, 5, 3])\n",
    "\n",
    "print(\"Coefficient Matrix A:\\n\", A_ex2)\n",
    "print(\"Constant Vector b:\", b_ex2)\n",
    "\n",
    "try:\n",
    "    A_ex2_inv = np.linalg.inv(A_ex2)\n",
    "    print(\"\\nInverse of A (A_ex2_inv):\\n\", A_ex2_inv)\n",
    "\n",
    "    x_ex2 = A_ex2_inv @ b_ex2\n",
    "    print(\"\\nSolution vector x (x, y, z):\", x_ex2)\n",
    "\n",
    "    # Verify the solution\n",
    "    verification_ex2 = A_ex2 @ x_ex2\n",
    "    print(\"\\nVerification (A @ x):\", verification_ex2)\n",
    "    is_correct_ex2 = np.allclose(verification_ex2, b_ex2)\n",
    "    print(\"Is A @ x approximately equal to b?\", is_correct_ex2)\n",
    "\n",
    "except np.linalg.LinAlgError as e:\n",
    "    print(\"Error: Matrix A is singular and cannot be inverted. \", e)\n"
   ]
  },
  {
   "cell_type": "markdown",
   "metadata": {},
   "source": [
    "## 3. Solving Linear Systems Directly with `np.linalg.solve`\n",
    "\n",
    "### Concept\n",
    "While using the inverse matrix (`A_inv @ b`) is conceptually clear, it's generally not the recommended approach for solving linear systems in practice, especially with computers.\n",
    "\n",
    "NumPy's `np.linalg.solve(A, b)` function is a more efficient and numerically stable way to solve $A\\mathbf{x} = \\mathbf{b}$. This function does not explicitly calculate the inverse of $A$. Instead, it uses a variety of advanced algorithms (like LU decomposition) to find the solution $\\mathbf{x}$ directly, which reduces computational errors and improves performance.\n",
    "\n",
    "It implicitly handles the inverse operation more robustly behind the scenes.\n",
    "\n",
    "### NumPy Practice\n",
    "Let's re-solve the previous 2x2 system using `np.linalg.solve`:\n",
    "\n",
    "$2x + y = 5$\n",
    "$x + y = 3$"
   ]
  },
  {
   "cell_type": "code",
   "execution_count": 8,
   "metadata": {},
   "outputs": [
    {
     "name": "stdout",
     "output_type": "stream",
     "text": [
      "Coefficient Matrix A:\n",
      " [[2 1]\n",
      " [1 1]]\n",
      "Constant Vector b: [5 3]\n",
      "\n",
      "Solution vector x (x, y) using np.linalg.solve: [2. 1.]\n",
      "\n",
      "Verification (A @ x_direct): [5. 3.]\n",
      "Is A @ x_direct approximately equal to b? True\n",
      "\n",
      "Solution from inverse method: [2. 1.]\n",
      "Are both solutions approximately equal? True\n"
     ]
    }
   ],
   "source": [
    "# Define the coefficient matrix A and the constant vector b\n",
    "A = np.array([[2, 1],\n",
    "              [1, 1]])\n",
    "b = np.array([5, 3])\n",
    "\n",
    "print(\"Coefficient Matrix A:\\n\", A)\n",
    "print(\"Constant Vector b:\", b)\n",
    "\n",
    "# Solve for x directly using np.linalg.solve\n",
    "x_direct = np.linalg.solve(A, b)\n",
    "print(\"\\nSolution vector x (x, y) using np.linalg.solve:\", x_direct)\n",
    "\n",
    "# Verify the solution\n",
    "verification_direct = A @ x_direct\n",
    "print(\"\\nVerification (A @ x_direct):\", verification_direct)\n",
    "is_correct_direct = np.allclose(verification_direct, b)\n",
    "print(\"Is A @ x_direct approximately equal to b?\", is_correct_direct)\n",
    "\n",
    "# Comparison with the inverse method's result (from previous section)\n",
    "A_inv = np.linalg.inv(A)\n",
    "x_inverse = A_inv @ b\n",
    "print(\"\\nSolution from inverse method:\", x_inverse)\n",
    "print(\"Are both solutions approximately equal?\", np.allclose(x_direct, x_inverse))\n"
   ]
  },
  {
   "cell_type": "markdown",
   "metadata": {},
   "source": [
    "### **Exercise 3: Practical Linear System Solution (Linear Regression)**\n",
    "\n",
    "A common application of solving linear systems in machine learning is in Ordinary Least Squares (OLS) linear regression. For a simple linear model with an intercept, the normal equation to find the optimal coefficients $\\beta$ (beta) is:\n",
    "\n",
    "$(\\mathbf{X}^T \\mathbf{X}) \\mathbf{\\beta} = \\mathbf{X}^T \\mathbf{y}$\n",
    "\n",
    "where:\n",
    "-   $\\mathbf{X}$ is the design matrix (features, including a column of ones for the intercept).\n",
    "-   $\\mathbf{y}$ is the target vector.\n",
    "\n",
    "We can rewrite this as $A_{LR} \\mathbf{\\beta} = \\mathbf{b}_{LR}$, where $A_{LR} = \\mathbf{X}^T \\mathbf{X}$ and $\\mathbf{b}_{LR} = \\mathbf{X}^T \\mathbf{y}$.\n",
    "\n",
    "Given the following synthetic data:\n",
    "-   `X = np.array([[1, 2], [1, 3], [1, 4], [1, 5]])` (first column is for the intercept, second is the feature x)\n",
    "-   `y = np.array([3, 5, 7, 9])` (target values)\n",
    "\n",
    "1.  Calculate `A_lr = X.T @ X`.\n",
    "2.  Calculate `b_lr = X.T @ y`.\n",
    "3.  Solve for the coefficient vector `beta` using `np.linalg.solve(A_lr, b_lr)`.\n",
    "4.  Print the calculated coefficients (`beta`). The first element is the intercept, and the second is the slope."
   ]
  },
  {
   "cell_type": "code",
   "execution_count": 9,
   "metadata": {},
   "outputs": [],
   "source": [
    "# Your code for Exercise 3 here\n"
   ]
  },
  {
   "cell_type": "code",
   "execution_count": 10,
   "metadata": {
    "collapsed": true
   },
   "outputs": [
    {
     "name": "stdout",
     "output_type": "stream",
     "text": [
      "Design Matrix X:\n",
      " [[1 2]\n",
      " [1 3]\n",
      " [1 4]\n",
      " [1 5]]\n",
      "Target Vector y:\n",
      " [3 5 7 9]\n",
      "\n",
      "A_lr (X_transpose @ X):\n",
      " [[ 4 14]\n",
      " [14 54]]\n",
      "\n",
      "b_lr (X_transpose @ y):\n",
      " [24 94]\n",
      "\n",
      "Coefficients (intercept, slope): [-1.  2.]\n"
     ]
    }
   ],
   "source": [
    "# Solution for Exercise 3\n",
    "X = np.array([[1, 2],\n",
    "              [1, 3],\n",
    "              [1, 4],\n",
    "              [1, 5]])\n",
    "y = np.array([3, 5, 7, 9])\n",
    "\n",
    "print(\"Design Matrix X:\\n\", X)\n",
    "print(\"Target Vector y:\\n\", y)\n",
    "\n",
    "# Calculate A_lr = X.T @ X\n",
    "A_lr = X.T @ X\n",
    "print(\"\\nA_lr (X_transpose @ X):\\n\", A_lr)\n",
    "\n",
    "# Calculate b_lr = X.T @ y\n",
    "b_lr = X.T @ y\n",
    "print(\"\\nb_lr (X_transpose @ y):\\n\", b_lr)\n",
    "\n",
    "# Solve for beta\n",
    "beta = np.linalg.solve(A_lr, b_lr)\n",
    "print(\"\\nCoefficients (intercept, slope):\", beta)\n",
    "\n",
    "# You can interpret these coefficients: intercept ~ -1, slope ~ 2\n",
    "# This means the fitted line is approximately y = 2x - 1"
   ]
  },
  {
   "cell_type": "markdown",
   "metadata": {},
   "source": [
    "## Day 6 Summary and ML Connection\n",
    "\n",
    "Today, we explored the critical concepts of inverse matrices and their application in solving linear systems. Here's a recap of what we covered and its relevance to machine learning:\n",
    "\n",
    "-   **Inverse Matrix ($A^{-1}$):** A matrix that, when multiplied by the original matrix $A$, yields the identity matrix. It's like the reciprocal for numbers, allowing us to 'undo' a matrix transformation.\n",
    "-   **Singular Matrices:** Matrices that do not have an inverse (their determinant is zero). These matrices represent transformations that cannot be undone, often implying a loss of information or redundancy.\n",
    "-   **Solving Linear Systems ($A\\mathbf{x} = \\mathbf{b}$):** We learned how to find the unknown vector $\\mathbf{x}$ using two methods:\n",
    "    1.  **Using the inverse:** $\\mathbf{x} = A^{-1} \\mathbf{b}$. While conceptually clear, it's often less efficient and numerically stable for computational purposes.\n",
    "    2.  **Directly with `np.linalg.solve()`:** This is the preferred method in practice, as it uses optimized algorithms for accuracy and speed without explicitly computing the inverse.\n",
    "\n",
    "**ML Connections:**\n",
    "-   **Ordinary Least Squares (OLS) Linear Regression:** Solving the normal equation $(\\mathbf{X}^T \\mathbf{X}) \\mathbf{\\beta} = \\mathbf{X}^T \\mathbf{y}$ for the optimal coefficients $\\mathbf{\\beta}$ is a direct application of solving linear systems. This is fundamental for understanding how linear models find their best fit.\n",
    "-   **Optimization Problems:** Many iterative optimization algorithms in machine learning (e.g., Newton's method) involve solving systems of linear equations at each step.\n",
    "-   **Data Transformations:** Understanding matrix inverses helps in comprehending how certain linear transformations (like scaling or rotation) can be reversed if the transformation matrix is invertible. Non-invertible transformations imply that information might be irretrievably lost.\n",
    "\n",
    "The ability to solve linear systems effectively is a cornerstone of numerical computation in machine learning. As you progress, you'll encounter these operations frequently, making today's practice invaluable!"
   ]
  }
 ],
 "metadata": {
  "colab": {
   "provenance": []
  },
  "kernelspec": {
   "display_name": ".venv",
   "language": "python",
   "name": "python3"
  },
  "language_info": {
   "codemirror_mode": {
    "name": "ipython",
    "version": 3
   },
   "file_extension": ".py",
   "mimetype": "text/x-python",
   "name": "python",
   "nbconvert_exporter": "python",
   "pygments_lexer": "ipython3",
   "version": "3.13.7"
  }
 },
 "nbformat": 4,
 "nbformat_minor": 5
}
