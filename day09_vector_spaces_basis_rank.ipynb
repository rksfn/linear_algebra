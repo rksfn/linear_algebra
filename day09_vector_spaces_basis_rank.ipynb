{
 "cells": [
  {
   "cell_type": "markdown",
   "id": "a1b2c3d4",
   "metadata": {},
   "source": [
    "# Day 9: Vector Spaces, Subspaces, Basis, and Rank\n",
    "\n",
    "Welcome to Day 9. Today we're going to touch on some of the more theoretical, yet highly practical, concepts of linear algebra. Understanding ideas like linear independence and matrix rank is crucial for diagnosing issues in machine learning models and for comprehending the 'true' dimensionality of your data.\n",
    "\n",
    "## Objectives for Today:\n",
    "- Understand the concepts of linear combination, span, and linear independence.\n",
    "- Learn what a basis of a vector space is.\n",
    "- Define the rank of a matrix and its connection to linear independence.\n",
    "- Learn how to check for linear independence and calculate rank using NumPy.\n",
    "- Connect these concepts to data redundancy and feature selection in machine learning."
   ]
  },
  {
   "cell_type": "code",
   "execution_count": 1,
   "id": "b2c3d4e5",
   "metadata": {},
   "outputs": [],
   "source": [
    "# Import necessary libraries\n",
    "import numpy as np"
   ]
  },
  {
   "cell_type": "markdown",
   "id": "c3d4e5f6",
   "metadata": {},
   "source": [
    "## 1. Core Concepts (A Quick Tour)\n",
    "\n",
    "**Linear Combination:** A linear combination of vectors `v1, v2, ..., vk` is any vector of the form `c1*v1 + c2*v2 + ... + ck*vk`, where `c1, c2, ...` are scalars.\n",
    "\n",
    "**Span:** The span of a set of vectors is the set of *all possible* linear combinations of those vectors. For example, the span of two non-collinear 2D vectors is the entire 2D plane (R²).\n",
    "\n",
    "**Linear Independence:** This is a critical concept. A set of vectors is **linearly independent** if no vector in the set can be written as a linear combination of the others. In other words, none of the vectors are redundant. If a set of vectors is *not* linearly independent, it is **linearly dependent**.\n",
    "\n",
    "**Basis and Dimension:** A **basis** for a vector space is a set of linearly independent vectors that span the entire space. The **dimension** of a space is the number of vectors in its basis. For example, the standard basis for R² is `{[1, 0], [0, 1]}`."
   ]
  },
  {
   "cell_type": "markdown",
   "id": "d4e5f6g7",
   "metadata": {},
   "source": [
    "## 2. Rank of a Matrix\n",
    "\n",
    "The **rank** of a matrix `A` is the dimension of the vector space spanned by its columns (or rows). More simply, it is the **maximum number of linearly independent columns (or rows) in the matrix**.\n",
    "\n",
    "- A matrix is **full rank** if its rank is the maximum possible for its dimensions (i.e., `rank = min(m, n)` for an `m x n` matrix).\n",
    "- If a square `n x n` matrix is not full rank (`rank < n`), it is called **singular** or **degenerate**. A singular matrix does not have an inverse, and its determinant is zero.\n",
    "\n",
    "In Python, we use `np.linalg.matrix_rank()` to find the rank of a matrix."
   ]
  },
  {
   "cell_type": "code",
   "execution_count": 2,
   "id": "e5f6g7h8",
   "metadata": {},
   "outputs": [
    {
     "name": "stdout",
     "output_type": "stream",
     "text": [
      "Matrix A (full rank):\n",
      " [[1 2]\n",
      " [3 4]]\n",
      "Rank of A: 2\n",
      "\n",
      "---\n",
      "\n",
      "Matrix B (singular/rank-deficient):\n",
      " [[1 2]\n",
      " [2 4]]\n",
      "Rank of B: 1\n",
      "\n",
      "---\n",
      "\n",
      "Matrix C (rectangular):\n",
      " [[1 2 3]\n",
      " [4 5 6]]\n",
      "Rank of C: 2\n"
     ]
    }
   ],
   "source": [
    "# A full rank 2x2 matrix\n",
    "A = np.array([[1, 2],\n",
    "              [3, 4]])\n",
    "print(\"Matrix A (full rank):\\n\", A)\n",
    "print(\"Rank of A:\", np.linalg.matrix_rank(A))\n",
    "\n",
    "print(\"\\n---\\n\")\n",
    "\n",
    "# A singular 2x2 matrix (row 2 is 2 * row 1)\n",
    "B = np.array([[1, 2],\n",
    "              [2, 4]])\n",
    "print(\"Matrix B (singular/rank-deficient):\\n\", B)\n",
    "print(\"Rank of B:\", np.linalg.matrix_rank(B))\n",
    "\n",
    "print(\"\\n---\\n\")\n",
    "\n",
    "# A rectangular matrix\n",
    "C = np.array([[1, 2, 3],\n",
    "              [4, 5, 6]])\n",
    "print(\"Matrix C (rectangular):\\n\", C)\n",
    "print(\"Rank of C:\", np.linalg.matrix_rank(C))"
   ]
  },
  {
   "cell_type": "markdown",
   "id": "f6g7h8i9",
   "metadata": {},
   "source": [
    "### Checking for Linear Independence\n",
    "\n",
    "The rank is the best way to check if a set of vectors is linearly independent. If you have `k` vectors, you can stack them as columns of a matrix. If the rank of that matrix is `k`, the vectors are linearly independent.\n",
    "\n",
    "For a **square** matrix, an alternative is to check the determinant (`np.linalg.det`). If the determinant is non-zero, the vectors are linearly independent."
   ]
  },
  {
   "cell_type": "markdown",
   "id": "g7h8i9j0",
   "metadata": {},
   "source": [
    "### **Exercise 1: Do these vectors form a basis for R²?**\n",
    "\n",
    "A set of vectors forms a basis for R² if there are exactly 2 of them and they are linearly independent.\n",
    "\n",
    "1.  Consider `Set 1`: `v1 = [2, 1]` and `v2 = [4, 2]`.\n",
    "2.  Consider `Set 2`: `v3 = [1, 2]` and `v4 = [3, 1]`.\n",
    "\n",
    "For each set, create a matrix where the vectors are the columns. Calculate the rank of the matrix. Based on the rank, determine if that set of vectors forms a basis for R²."
   ]
  },
  {
   "cell_type": "code",
   "execution_count": 6,
   "id": "h8i9j0k1",
   "metadata": {},
   "outputs": [
    {
     "name": "stdout",
     "output_type": "stream",
     "text": [
      "--- Set 1 ---\n",
      "Matrix for Set 1:\n",
      " [[2 4]\n",
      " [1 2]]\n",
      "Rank: 1\n",
      "Conclusion: Set 1 is linearly DEPENDENT and does NOT form a basis for R².\n",
      "--- Set 2 ---\n",
      "Matrix for Set 2:\n",
      " [[1 3]\n",
      " [2 1]]\n",
      "Rank: 2\n",
      "Conclusion: Set 2 is linearly INDEPENDENT DOES form a basis for R².\n"
     ]
    }
   ],
   "source": [
    "# Your code for Exercise 1 here\n",
    "v1 = np.array([2, 1])\n",
    "v2 = np.array([4, 2])\n",
    "matrix1 = np.column_stack([v1, v2])\n",
    "rank1 = np.linalg.matrix_rank(matrix1)\n",
    "\n",
    "print(\"--- Set 1 ---\")\n",
    "print(\"Matrix for Set 1:\\n\", matrix1)\n",
    "print(\"Rank:\", rank1)\n",
    "print(\"Conclusion: Set 1 is linearly DEPENDENT and does NOT form a basis for R².\")\n",
    "\n",
    "v3 = np.array([1, 2])\n",
    "v4 = np.array([3, 1])\n",
    "matrix2 = np.column_stack([v3, v4])\n",
    "rank2 = np.linalg.matrix_rank(matrix2)\n",
    "print(\"--- Set 2 ---\")\n",
    "print(\"Matrix for Set 2:\\n\", matrix2)\n",
    "print(\"Rank:\", rank2)\n",
    "print(\"Conclusion: Set 2 is linearly INDEPENDENT DOES form a basis for R².\")"
   ]
  },
  {
   "cell_type": "code",
   "execution_count": 7,
   "id": "i9j0k1l2",
   "metadata": {
    "jupyter": {
     "source_hidden": true
    }
   },
   "outputs": [
    {
     "name": "stdout",
     "output_type": "stream",
     "text": [
      "--- Set 1 ---\n",
      "Matrix for Set 1:\n",
      " [[2 4]\n",
      " [1 2]]\n",
      "Rank: 1\n",
      "Conclusion: Set 1 is linearly DEPENDENT and does NOT form a basis for R².\n",
      "--- Set 2 ---\n",
      "Matrix for Set 2:\n",
      " [[1 3]\n",
      " [2 1]]\n",
      "Rank: 2\n",
      "Conclusion: Set 2 is linearly INDEPENDENT and DOES form a basis for R².\n"
     ]
    }
   ],
   "source": [
    "# Solution\n",
    "\n",
    "# Set 1\n",
    "v1 = np.array([2, 1])\n",
    "v2 = np.array([4, 2])\n",
    "matrix1 = np.column_stack([v1, v2])\n",
    "rank1 = np.linalg.matrix_rank(matrix1)\n",
    "\n",
    "print(\"--- Set 1 ---\")\n",
    "print(\"Matrix for Set 1:\\n\", matrix1)\n",
    "print(\"Rank:\", rank1)\n",
    "print(\"Conclusion: Set 1 is linearly DEPENDENT and does NOT form a basis for R².\")\n",
    "\n",
    "# Set 2\n",
    "v3 = np.array([1, 2])\n",
    "v4 = np.array([3, 1])\n",
    "matrix2 = np.column_stack([v3, v4])\n",
    "rank2 = np.linalg.matrix_rank(matrix2)\n",
    "\n",
    "print(\"--- Set 2 ---\")\n",
    "print(\"Matrix for Set 2:\\n\", matrix2)\n",
    "print(\"Rank:\", rank2)\n",
    "print(\"Conclusion: Set 2 is linearly INDEPENDENT and DOES form a basis for R².\")\n"
   ]
  },
  {
   "cell_type": "markdown",
   "id": "j0k1l2m3",
   "metadata": {},
   "source": [
    "### **Exercise 2: Determine the Rank**\n",
    "\n",
    "Calculate the rank of the following matrices and think about what it means for each one.\n",
    "\n",
    "1. `M1 = np.array([[1, 0, 0], [0, 1, 0], [0, 0, 1]])` (Identity Matrix)\n",
    "2. `M2 = np.array([[1, 2, 3], [4, 5, 6], [7, 8, 9]])` (Hint: `row3 = 2*row2 - row1`)\n",
    "3. `M3 = np.array([[5, 1, 4, 3], [2, 8, 1, 0]])` (A rectangular matrix)"
   ]
  },
  {
   "cell_type": "code",
   "execution_count": 8,
   "id": "k1l2m3n4",
   "metadata": {},
   "outputs": [
    {
     "name": "stdout",
     "output_type": "stream",
     "text": [
      "Rank of M1 (Identity): 3\n",
      "Rank of M2 (Identity): 2\n",
      "Rank of M3 (Identity): 2\n"
     ]
    }
   ],
   "source": [
    "# Your code for Exercise 2 here\n",
    "M1 = np.array([[1, 0, 0], [0, 1, 0], [0, 0, 1]])\n",
    "M2 = np.array([[1, 2, 3], [4, 5, 6], [7, 8, 9]])\n",
    "M3 = np.array([[5, 1, 4, 3], [2, 8, 1, 0]])\n",
    "\n",
    "print(\"Rank of M1 (Identity):\", np.linalg.matrix_rank(M1))\n",
    "print(\"Rank of M2 (Identity):\", np.linalg.matrix_rank(M2))\n",
    "print(\"Rank of M3 (Identity):\", np.linalg.matrix_rank(M3))"
   ]
  },
  {
   "cell_type": "code",
   "execution_count": null,
   "id": "l2m3n4o5",
   "metadata": {
    "jupyter": {
     "source_hidden": true
    }
   },
   "outputs": [],
   "source": [
    "# Solution\n",
    "M1 = np.array([[1, 0, 0], [0, 1, 0], [0, 0, 1]])\n",
    "M2 = np.array([[1, 2, 3], [4, 5, 6], [7, 8, 9]])\n",
    "M3 = np.array([[5, 1, 4, 3], [2, 8, 1, 0]])\n",
    "\n",
    "print(\"Rank of M1 (Identity):\", np.linalg.matrix_rank(M1))\n",
    "print(\"Rank of M2 (Singular):\", np.linalg.matrix_rank(M2))\n",
    "print(\"Rank of M3 (Rectangular):\", np.linalg.matrix_rank(M3))"
   ]
  },
  {
   "cell_type": "markdown",
   "id": "m3n4o5p6",
   "metadata": {},
   "source": [
    "### **Exercise 3: Conceptual Question**\n",
    "\n",
    "Briefly explain in your own words the relationship between the **rank of a matrix** and the number of **linearly independent rows/columns** in that matrix.\n",
    "\n",
    "*Write your answer in the markdown cell below.*"
   ]
  },
  {
   "cell_type": "markdown",
   "id": "a31041a1",
   "metadata": {},
   "source": [
    "---"
   ]
  },
  {
   "cell_type": "markdown",
   "id": "a83ba3f4",
   "metadata": {},
   "source": [
    "*(Your answer for Exercise 3 here)*\n",
    "\n",
    "The rank of a matrix is exactly the number of linearly independent rows or columns in that matrix. If a `5 x 4` matrix has a rank of 2, it means that even though it has 4 columns and 5 rows, the 'true'dimensionality of the data it represents is only 2. You can choose 2 of its columns (or rows) that are linearly independent, and all other columns (or rows) can be constructed as linear combinations of those 2."
   ]
  },
  {
   "cell_type": "markdown",
   "id": "147d5d5b",
   "metadata": {},
   "source": [
    "---"
   ]
  },
  {
   "cell_type": "markdown",
   "id": "n4o5p6q7",
   "metadata": {},
   "source": [
    "\n",
    "**Solution:**\n",
    "\n",
    "The rank of a matrix is *exactly* the number of linearly independent rows or columns in that matrix. If a `5 x 4` matrix has a rank of 3, it means that even though it has 4 columns and 5 rows, the 'true' dimensionality of the data it represents is only 3. You can choose 3 of its columns (or rows) that are linearly independent, and all other columns (or rows) can be constructed as linear combinations of those 3."
   ]
  },
  {
   "cell_type": "markdown",
   "id": "o5p6q7r8",
   "metadata": {},
   "source": [
    "## 3. ML Connection: Data Dimensionality and Redundancy\n",
    "\n",
    "Rank is a fundamental concept for understanding your data in machine learning.\n",
    "\n",
    "-   **Intrinsic Dimensionality:** Imagine you have a dataset with 50 features, but the rank of the feature matrix is only 10. This tells you that the 'intrinsic' or 'true' dimensionality of your data is much lower. The data points, despite living in a 50-dimensional space, actually lie on a 10-dimensional subspace.\n",
    "\n",
    "-   **Data Redundancy:** A rank-deficient feature matrix means you have redundant features. For example, if you have features for 'height in feet' and 'height in meters', one is a simple linear combination of the other. They are linearly dependent, and the second feature adds no new information to the model. This is called **collinearity** (or multicollinearity).\n",
    "\n",
    "-   **Model Stability:** In models like Linear Regression, a feature matrix that is not full rank (i.e., has collinear features) can make the model unstable and the results unreliable. Techniques like PCA (which we've seen) are used to address this by projecting the data onto a lower-dimensional, full-rank subspace."
   ]
  },
  {
   "cell_type": "markdown",
   "id": "p6q7r8s9",
   "metadata": {},
   "source": [
    "## Day 9 Summary and Key Takeaways\n",
    "\n",
    "You've made it through some of the most abstract concepts in the course. Well done!\n",
    "\n",
    "Here's what we covered:\n",
    "-   A set of vectors is **linearly independent** if none are redundant.\n",
    "-   A **basis** is a minimal set of linearly independent vectors that spans a space.\n",
    "-   The **rank** of a matrix is the number of linearly independent columns (or rows) it contains.\n",
    "-   We use **`np.linalg.matrix_rank()`** to easily find the rank and check for linear independence.\n",
    "-   In Machine Learning, rank helps us understand the **true dimensionality** of our data and identify **redundant features** (collinearity), which can be crucial for building robust models.\n",
    "\n",
    "Tomorrow, we'll put all these concepts together in a final day of applications and review, including a from-scratch implementation of Linear Regression."
   ]
  }
 ],
 "metadata": {
  "colab": {
   "provenance": []
  },
  "kernelspec": {
   "display_name": ".venv",
   "language": "python",
   "name": "python3"
  },
  "language_info": {
   "codemirror_mode": {
    "name": "ipython",
    "version": 3
   },
   "file_extension": ".py",
   "mimetype": "text/x-python",
   "name": "python",
   "nbconvert_exporter": "python",
   "pygments_lexer": "ipython3",
   "version": "3.13.7"
  }
 },
 "nbformat": 4,
 "nbformat_minor": 5
}
