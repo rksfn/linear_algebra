{
 "cells": [
  {
   "cell_type": "markdown",
   "id": "56e980d1",
   "metadata": {},
   "source": [
    "# Day 1: Introduction to Vectors\n",
    "\n",
    "Welcome to the first day of our linear algebra journey! Today, we're diving into the foundational concept of **vectors**. Vectors are fundamental in machine learning as they are often used to represent data points, features, and directions in space.\n",
    "\n",
    "## Objectives for Today:\n",
    "- Understand what vectors are (geometrically and algebraically).\n",
    "- Learn how to represent vectors using NumPy arrays.\n",
    "- Explore vector dimensions and shapes.\n",
    "- Visualize 2D vectors using Matplotlib.\n",
    "- Connect vectors to real-world data representation in Machine Learning."
   ]
  },
  {
   "cell_type": "code",
   "execution_count": null,
   "id": "04131392",
   "metadata": {
    "scrolled": true
   },
   "outputs": [],
   "source": [
    "# First, let's import the necessary libraries\n",
    "import numpy as np\n",
    "import matplotlib.pyplot as plt\n",
    "\n",
    "# This line helps display plots directly in the notebook\n",
    "%matplotlib inline"
   ]
  },
  {
   "cell_type": "markdown",
   "id": "8174bee3",
   "metadata": {},
   "source": [
    "## 1. What are Vectors?\n",
    "\n",
    "### Geometric Interpretation\n",
    "Geometrically, a vector is an object that has both **magnitude** (length) and **direction**. We often visualize them as arrows in space, starting from an origin (though they can be placed anywhere for addition, etc.).\n",
    "\n",
    "For example, a vector `[3, 4]` in 2D space can be seen as an arrow starting at `(0,0)` and ending at `(3,4)`.\n",
    "\n",
    "### Algebraic Interpretation\n",
    "Algebraically, a vector is an ordered list of numbers. These numbers are called the **components** or **elements** of the vector. The number of components determines the **dimension** of the vector.\n",
    "\n",
    "- A 2D vector: `[x, y]`\n",
    "- A 3D vector: `[x, y, z]`\n",
    "- An n-dimensional vector: `[x1, x2, ..., xn]`\n",
    "\n",
    "### Scalars\n",
    "A **scalar** is simply a single number, representing only magnitude (e.g., 5, -10.5, 3.14). Scalars are used to scale (stretch or shrink) vectors."
   ]
  },
  {
   "cell_type": "markdown",
   "id": "34e8e685",
   "metadata": {},
   "source": [
    "## 2. Vectors with NumPy\n",
    "\n",
    "In Python, we use NumPy arrays to represent vectors. A 1-dimensional NumPy array is perfect for this.\n",
    "\n",
    "Let's see how to create them and check their `shape` attribute, which tells us their dimensions."
   ]
  },
  {
   "cell_type": "code",
   "execution_count": null,
   "id": "fc487c38",
   "metadata": {},
   "outputs": [],
   "source": [
    "# Creating a 2D vector\n",
    "vector_2d = np.array([5, 2])\n",
    "print(\"2D Vector:\", vector_2d)\n",
    "print(\"Shape of 2D Vector:\", vector_2d.shape) # (2,) means a 1D array with 2 elements\n",
    "\n",
    "print(\"\\n---\")\n",
    "\n",
    "# Creating a 3D vector\n",
    "vector_3d = np.array([1, -3, 4])\n",
    "print(\"3D Vector:\", vector_3d)\n",
    "print(\"Shape of 3D Vector:\", vector_3d.shape) # (3,) means a 1D array with 3 elements\n",
    "\n",
    "print(\"\\n---\")\n",
    "\n",
    "# Creating a higher-dimensional vector (e.g., 5D)\n",
    "vector_5d = np.array([10, 20, 30, 40, 50])\n",
    "print(\"5D Vector:\", vector_5d)\n",
    "print(\"Shape of 5D Vector:\", vector_5d.shape)"
   ]
  },
  {
   "cell_type": "markdown",
   "id": "41521085",
   "metadata": {},
   "source": [
    "### **Exercise 1: Creating and Inspecting Vectors**\n",
    "\n",
    "1.  Create a vector `v1` representing a displacement from the origin `(3, 4)`.\n",
    "2.  Create a vector `v2` representing a 3D point `(1, -2, 5)`.\n",
    "3.  Create a vector `v3` with 5 arbitrary numerical elements (e.g., `[10, 0, -5, 2.5, 100]`).\n",
    "4.  Print each vector and its `shape` attribute."
   ]
  },
  {
   "cell_type": "code",
   "execution_count": null,
   "id": "e0f762b5",
   "metadata": {},
   "outputs": [],
   "source": [
    "# Your code for Exercise 1 here\n"
   ]
  },
  {
   "cell_type": "code",
   "execution_count": null,
   "id": "4b261a01-4580-4e93-947c-b5d706a11111",
   "metadata": {
    "jupyter": {
     "source_hidden": true
    }
   },
   "outputs": [],
   "source": [
    "# Solution\n",
    "\n",
    "v1 = np.array()\n",
    "v2 = np.array([1, -2, 5])\n",
    "v3 = np.array([10, 0, -5, 2.5, 100])\n",
    "\n",
    "print(\"v1:\", v1)\n",
    "print(\"Shape of v1:\", v1.shape)\n",
    "\n",
    "print(\"\\n---\")\n",
    "\n",
    "print(\"v2:\", v2)\n",
    "print(\"Shape of v2:\", v2.shape)\n",
    "\n",
    "print(\"\\n---\")\n",
    "\n",
    "print(\"v3:\", v3)\n",
    "print(\"Shape of v3:\", v3.shape)"
   ]
  },
  {
   "cell_type": "markdown",
   "id": "f7334b41",
   "metadata": {},
   "source": [
    "## 3. Visualizing Vectors (2D)\n",
    "\n",
    "Visualizing vectors helps build intuition. For 2D vectors, we can easily plot them as arrows using Matplotlib's `quiver` function. Remember that `quiver` expects the starting `(x, y)` coordinates and the `(dx, dy)` components of the vector."
   ]
  },
  {
   "cell_type": "code",
   "execution_count": null,
   "id": "7fa7e86a",
   "metadata": {},
   "outputs": [],
   "source": [
    "# Example: Plotting a single 2D vector\n",
    "v_example = np.array([2, 3])\n",
    "\n",
    "plt.figure(figsize=(5, 5))\n",
    "plt.quiver(0, 0, v_example[0], v_example[1], angles='xy', scale_units='xy', scale=1, color='blue', label='v_example (2, 3)')\n",
    "\n",
    "plt.xlim(-5, 5)\n",
    "plt.ylim(-5, 5)\n",
    "plt.axvline(x=0, color='gray', linestyle='--') # X-axis\n",
    "plt.axhline(y=0, color='gray', linestyle='--') # Y-axis\n",
    "plt.grid()\n",
    "plt.xlabel(\"X-axis\")\n",
    "plt.ylabel(\"Y-axis\")\n",
    "plt.title(\"Single 2D Vector Visualization\")\n",
    "plt.legend()\n",
    "plt.gca().set_aspect('equal', adjustable='box') # Ensures x and y scales are equal\n",
    "plt.show()"
   ]
  },
  {
   "cell_type": "markdown",
   "id": "f81c01a5",
   "metadata": {},
   "source": [
    "### **Exercise 2: Plotting Multiple 2D Vectors**\n",
    "\n",
    "1.  Define three 2D vectors:\n",
    "    *   `vec_a = np.array([4, 1])`\n",
    "    *   `vec_b = np.array([-3, 2])`\n",
    "    *   `vec_c = np.array([1, -4])`\n",
    "2.  Plot all three vectors on the same graph, ensuring they all start from the origin `(0, 0)`.\n",
    "3.  Use different colors for each vector and add a legend.\n",
    "4.  Set appropriate `xlim` and `ylim` (e.g., -5 to 5).\n",
    "5.  Add a grid, labels for x and y axes, and a title."
   ]
  },
  {
   "cell_type": "code",
   "execution_count": null,
   "id": "cdad0f73-8c93-423d-9d73-ddb0aeaacaf0",
   "metadata": {},
   "outputs": [],
   "source": [
    "# Your code for Exercise 2 here\n"
   ]
  },
  {
   "cell_type": "code",
   "execution_count": null,
   "id": "6b2d18c0-df52-4f33-8ce6-8adf95a4e660",
   "metadata": {
    "collapsed": true,
    "jupyter": {
     "outputs_hidden": true,
     "source_hidden": true
    }
   },
   "outputs": [],
   "source": [
    "# Solution\n",
    "\n",
    "vec_a = np.array()\n",
    "vec_b = np.array([-3, 2])\n",
    "vec_c = np.array([1, -4])\n",
    "\n",
    "plt.figure(figsize=(7, 7))\n",
    "plt.quiver(0, 0, vec_a, vec_a, angles='xy', scale_units='xy', scale=1, color='red', label='vec_a (4, 1)')\n",
    "plt.quiver(0, 0, vec_b, vec_b, angles='xy', scale_units='xy', scale=1, color='green', label='vec_b (-3, 2)')\n",
    "plt.quiver(0, 0, vec_c, vec_c, angles='xy', scale_units='xy', scale=1, color='blue', label='vec_c (1, -4)')\n",
    "\n",
    "plt.xlim(-5, 5)\n",
    "plt.ylim(-5, 5)\n",
    "plt.axvline(x=0, color='gray', linestyle='--')\n",
    "plt.axhline(y=0, color='gray', linestyle='--')\n",
    "plt.grid()\n",
    "plt.xlabel(\"X-axis\")\n",
    "plt.ylabel(\"Y-axis\")\n",
    "plt.title(\"Multiple 2D Vector Visualization\")\n",
    "plt.legend()\n",
    "plt.gca().set_aspect('equal', adjustable='box')\n",
    "plt.show()"
   ]
  },
  {
   "cell_type": "markdown",
   "id": "2671c642",
   "metadata": {},
   "source": [
    "## 4. Vectors as Feature Representations (ML Connection)\n",
    "\n",
    "In machine learning, individual data points are very frequently represented as vectors. Each component of the vector corresponds to a `feature` or `attribute` of the data point.\n",
    "\n",
    "For example, if you're working with a dataset of people, a single person might be represented by a vector like `[height, weight, age, income]`."
   ]
  },
  {
   "cell_type": "markdown",
   "id": "593245da",
   "metadata": {},
   "source": [
    "### **Exercise 3: Creating a Feature Vector**\n",
    "\n",
    "Imagine a dataset where each data point represents a car. A specific car has the following features:\n",
    "-   **Horsepower (HP):** 150\n",
    "-   **Fuel Efficiency (MPG):** 30\n",
    "-   **Weight (tons):** 1.5\n",
    "-   **Number of Seats:** 5\n",
    "\n",
    "1.  Create a NumPy vector named `car_features` to represent this car.\n",
    "2.  Print the `car_features` vector.\n",
    "3.  Print the `shape` of the `car_features` vector."
   ]
  },
  {
   "cell_type": "code",
   "execution_count": null,
   "id": "a3c624f6",
   "metadata": {},
   "outputs": [],
   "source": [
    "# Your code for Exercise 3 here\n"
   ]
  },
  {
   "cell_type": "code",
   "execution_count": null,
   "id": "f8eeab56-5a96-4d1c-a677-71d9e3cb9b55",
   "metadata": {
    "jupyter": {
     "source_hidden": true
    }
   },
   "outputs": [],
   "source": [
    "# Solution\n",
    "\n",
    "car_features = np.array([150, 30, 1.5, 5])\n",
    "print(\"Car Feature Vector:\", car_features)\n",
    "print(\"Shape of Car Feature Vector:\", car_features.shape)\n"
   ]
  },
  {
   "cell_type": "markdown",
   "id": "18d1f09d",
   "metadata": {},
   "source": [
    "## Day 1 Summary and Key Takeaways\n",
    "\n",
    "Congratulations on completing Day 1!\n",
    "\n",
    "Here's what we covered:\n",
    "-   **Vectors** are fundamental mathematical objects with magnitude and direction, representable as ordered lists of numbers.\n",
    "-   **Scalars** are single numbers used to scale vectors.\n",
    "-   **NumPy's 1D arrays** are the standard way to represent vectors in Python.\n",
    "-   The `.shape` attribute tells us the dimension of a vector (e.g., `(n,)` for an n-dimensional vector).\n",
    "-   **Matplotlib** allows us to visualize 2D vectors as arrows, which is crucial for building geometric intuition.\n",
    "-   In Machine Learning, **data points** are commonly represented as **feature vectors**, where each component is a specific characteristic or attribute.\n",
    "\n",
    "You now have a basic understanding of what vectors are and how to work with them in Python. Tomorrow, we'll build on this by exploring fundamental vector operations like addition, scalar multiplication, and the dot product!"
   ]
  }
 ],
 "metadata": {
  "colab": {
   "provenance": []
  },
  "kernelspec": {
   "display_name": "Python 3 (ipykernel)",
   "language": "python",
   "name": "python3"
  },
  "language_info": {
   "codemirror_mode": {
    "name": "ipython",
    "version": 3
   },
   "file_extension": ".py",
   "mimetype": "text/x-python",
   "name": "python",
   "nbconvert_exporter": "python",
   "pygments_lexer": "ipython3",
   "version": "3.12.3"
  }
 },
 "nbformat": 4,
 "nbformat_minor": 5
}
